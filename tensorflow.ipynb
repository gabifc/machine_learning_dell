{
  "nbformat": 4,
  "nbformat_minor": 0,
  "metadata": {
    "colab": {
      "name": "tensorflow.ipynb",
      "provenance": [],
      "authorship_tag": "ABX9TyNjhowjWVmPycO9jpkMQxrV",
      "include_colab_link": true
    },
    "kernelspec": {
      "name": "python3",
      "display_name": "Python 3"
    },
    "language_info": {
      "name": "python"
    }
  },
  "cells": [
    {
      "cell_type": "markdown",
      "metadata": {
        "id": "view-in-github",
        "colab_type": "text"
      },
      "source": [
        "<a href=\"https://colab.research.google.com/github/gabifc/machine_learning_dell/blob/main/tensorflow.ipynb\" target=\"_parent\"><img src=\"https://colab.research.google.com/assets/colab-badge.svg\" alt=\"Open In Colab\"/></a>"
      ]
    },
    {
      "cell_type": "markdown",
      "metadata": {
        "id": "uUfCIuUvTSku"
      },
      "source": [
        "#Tensor Flow  \n",
        "Oferece uma alternativa mais complexa e robusta que permite a construção de redes com mais camadas e mais opções.\n",
        "\n",
        "Abaixo o passo a passa para construir e avaliar um modelo.\n",
        "\n"
      ]
    },
    {
      "cell_type": "code",
      "metadata": {
        "id": "d-8JAvEkTGWY"
      },
      "source": [
        "import tensorflow as tf\n",
        "from tensorflow import keras\n",
        "import numpy as np"
      ],
      "execution_count": 2,
      "outputs": []
    },
    {
      "cell_type": "code",
      "metadata": {
        "colab": {
          "base_uri": "https://localhost:8080/"
        },
        "id": "_3XcWiluUhKm",
        "outputId": "9800f215-9434-44e7-eae2-0fa8ce9d9340"
      },
      "source": [
        "# carregando conjunto de dados na variável\n",
        "fashion_mnist = keras.datasets.fashion_mnist\n",
        "# separar o conjunto de dados em treino e teste e carregar na variavel \n",
        "(train_images, train_labels), (test_images, test_labels) = fashion_mnist.load_data()"
      ],
      "execution_count": 3,
      "outputs": [
        {
          "output_type": "stream",
          "text": [
            "Downloading data from https://storage.googleapis.com/tensorflow/tf-keras-datasets/train-labels-idx1-ubyte.gz\n",
            "32768/29515 [=================================] - 0s 0us/step\n",
            "Downloading data from https://storage.googleapis.com/tensorflow/tf-keras-datasets/train-images-idx3-ubyte.gz\n",
            "26427392/26421880 [==============================] - 0s 0us/step\n",
            "Downloading data from https://storage.googleapis.com/tensorflow/tf-keras-datasets/t10k-labels-idx1-ubyte.gz\n",
            "8192/5148 [===============================================] - 0s 0us/step\n",
            "Downloading data from https://storage.googleapis.com/tensorflow/tf-keras-datasets/t10k-images-idx3-ubyte.gz\n",
            "4423680/4422102 [==============================] - 0s 0us/step\n"
          ],
          "name": "stdout"
        }
      ]
    },
    {
      "cell_type": "code",
      "metadata": {
        "colab": {
          "base_uri": "https://localhost:8080/"
        },
        "id": "nEsf0GTlXVLm",
        "outputId": "b326b158-3360-4454-f6fd-e81508a83880"
      },
      "source": [
        "train_images.shape\n",
        "# Tensor 3d com 60 mil elementos e cada elemento é uma matriz de 28 por 28."
      ],
      "execution_count": 4,
      "outputs": [
        {
          "output_type": "execute_result",
          "data": {
            "text/plain": [
              "(60000, 28, 28)"
            ]
          },
          "metadata": {
            "tags": []
          },
          "execution_count": 4
        }
      ]
    },
    {
      "cell_type": "code",
      "metadata": {
        "colab": {
          "base_uri": "https://localhost:8080/"
        },
        "id": "0S-61FdjUnQT",
        "outputId": "56e736ca-683c-467d-8d69-24101d54fcbb"
      },
      "source": [
        "len(train_labels) # para verificar o tamanho do conjunto dos rotulos de treino."
      ],
      "execution_count": 5,
      "outputs": [
        {
          "output_type": "execute_result",
          "data": {
            "text/plain": [
              "60000"
            ]
          },
          "metadata": {
            "tags": []
          },
          "execution_count": 5
        }
      ]
    },
    {
      "cell_type": "code",
      "metadata": {
        "colab": {
          "base_uri": "https://localhost:8080/"
        },
        "id": "F5dc2SItUq-M",
        "outputId": "54955866-89f5-428e-f3bd-1957850c1d67"
      },
      "source": [
        "np.unique(train_labels) \n",
        "# tenho todos os labels que aparecem neste conjunto. De 0 a 9 tenho 10 categorias diferentes. \n",
        "# Os 60 mil rotulos estão distribuidas nestas 10 classes. "
      ],
      "execution_count": 6,
      "outputs": [
        {
          "output_type": "execute_result",
          "data": {
            "text/plain": [
              "array([0, 1, 2, 3, 4, 5, 6, 7, 8, 9], dtype=uint8)"
            ]
          },
          "metadata": {
            "tags": []
          },
          "execution_count": 6
        }
      ]
    },
    {
      "cell_type": "code",
      "metadata": {
        "colab": {
          "base_uri": "https://localhost:8080/"
        },
        "id": "zecQHnvVb4yx",
        "outputId": "9f58a8d5-68d1-42cf-edac-d9da5aaf2bf4"
      },
      "source": [
        "test_images.shape # verificando o tamanho do teste. 10 mil imagens de 28 por 28."
      ],
      "execution_count": 7,
      "outputs": [
        {
          "output_type": "execute_result",
          "data": {
            "text/plain": [
              "(10000, 28, 28)"
            ]
          },
          "metadata": {
            "tags": []
          },
          "execution_count": 7
        }
      ]
    },
    {
      "cell_type": "code",
      "metadata": {
        "colab": {
          "base_uri": "https://localhost:8080/"
        },
        "id": "eMdS9Ua_b-qB",
        "outputId": "3acda88d-3150-4da8-e97d-2a1f08a68513"
      },
      "source": [
        "len(test_labels) # quantidade de rotulos de teste. Tem que bater a quantidade de elementos com a quantidade de rotulos."
      ],
      "execution_count": 8,
      "outputs": [
        {
          "output_type": "execute_result",
          "data": {
            "text/plain": [
              "10000"
            ]
          },
          "metadata": {
            "tags": []
          },
          "execution_count": 8
        }
      ]
    },
    {
      "cell_type": "code",
      "metadata": {
        "colab": {
          "base_uri": "https://localhost:8080/"
        },
        "id": "3K7ndNmhcCjw",
        "outputId": "89e6e4d1-bd7f-4f38-f06d-478ef9f0974a"
      },
      "source": [
        "test_labels \n",
        "# o rotulo da primeira imagem de teste é 9, da segunda é 2..."
      ],
      "execution_count": 9,
      "outputs": [
        {
          "output_type": "execute_result",
          "data": {
            "text/plain": [
              "array([9, 2, 1, ..., 8, 1, 5], dtype=uint8)"
            ]
          },
          "metadata": {
            "tags": []
          },
          "execution_count": 9
        }
      ]
    },
    {
      "cell_type": "markdown",
      "metadata": {
        "id": "Sa1ZCQ-GekQJ"
      },
      "source": [
        "Para finalizar essa preparação de dados nós podemos verificar que as nbossas imagens de treino e teste s compostas de matriz de dimensoes de 28 po 28 . Cada um desses elementos da matriz é exatamente um pixel com valores entre 0 e 255.  \n",
        "Onde 0 é a ausencia de cor no pixel e 255 é a intensidade maxima do pixel. Em alguns modelos, tais como a regressão linear e as próprias redes neurais se beneficiam de atributos escalados. Esses modelos utilizam uma técnica de gradiente para otimização ou seja de derivada. Portanto quando estes valores estão numa escala pequena como entre 0 e 1 esse modelos tem melhor perfomance. Como todos os pixels estão com valores entre 0 e 255 nós podemos dividir as nossas matrizes por 255 e dessa maneira o pixel com maior intensidade que é o de 255 será igual a 1 o piel de menor intensidade que é 0 continuará sendo 0 e todos os valores intermediários estará na escla entre 0 e 1.  \n",
        "Estamos utilizando um MinMaxScaler chamado explicitamente."
      ]
    },
    {
      "cell_type": "code",
      "metadata": {
        "id": "ixhlGC__dEDZ"
      },
      "source": [
        "train_images = train_images / 255.0\n",
        "\n",
        "test_images = test_images / 255.0"
      ],
      "execution_count": 10,
      "outputs": []
    },
    {
      "cell_type": "markdown",
      "metadata": {
        "id": "kIUgXC9xg1oi"
      },
      "source": [
        "Dividido por 255.0 para forçar o resultado a ser um ponto flutuante e todos os valores tanto das imagens de traino quanto as de teste estarão entre 0 e 1.  \n",
        "Com isso teremos preparado o conjunto de dados para utilizar a rede neural. Esta preparação do conjunto de dados é tão importante quanto a implementação do modelo uma vez que dados que não estejam corretamente alinhados ou preparados podem gerar modelos ruins ou modelos cuja avaliação não é confiável.Então temos um modelo que é capaz de ser executado de forma confiável já que temos separado treino e teste para avaliação e estamos normalizando o nosso conjunto de dados."
      ]
    },
    {
      "cell_type": "markdown",
      "metadata": {
        "id": "JnDgtqpNicAX"
      },
      "source": [
        "#Construindo o modelo de Rede Neural com TensorFlow  \n",
        "Modelo Sequencial, as camadas são em sequencia e o resultado de uma vai para proxima.  \n",
        "Flatten - a matriz que tem tamanho 28 por 28 é traduzido 28 vezes 28. Pq esta rede não é capaz de trabalhar com matrizes. Então transforma a matriz em vetor concatenando as linhas dessa matriz. Só passar como parametro o tamanho do vetor de entrada.  \n",
        "Dense - camadas densas, comuns de redes neurais que liga todos os neuronios da camada anterior aos neuronios da camada atual. Utilizo uma função de ativação para cada uma dessas camadas.  \n",
        "Relu - função que transforma qualquer número negativo em 0 e se o nr for positivo mantém o nr, ou seja, elimina nrs negativos.  \n",
        "Softmax - função de classificação, define as classes que permite a avaliação. \n",
        "Na última camada temos 10 neuronios e tbm 10 classes. A última camada da rede neural deve bater com o nr de classes 1 para 1 deve ser sempre assim.  \n",
        "model.summary- quantos pesos temos na rede neural e a estrutura dela."
      ]
    },
    {
      "cell_type": "code",
      "metadata": {
        "colab": {
          "base_uri": "https://localhost:8080/"
        },
        "id": "bmVEYJiKdEh5",
        "outputId": "c9721554-d8b5-4d50-a6fd-c71f075201ca"
      },
      "source": [
        "model = keras.Sequential([\n",
        "    keras.layers.Flatten(input_shape=(28, 28)),\n",
        "    keras.layers.Dense(128, activation=tf.nn.relu),\n",
        "    keras.layers.Dense(10, activation=tf.nn.softmax)\n",
        "])\n",
        "model.summary()"
      ],
      "execution_count": 11,
      "outputs": [
        {
          "output_type": "stream",
          "text": [
            "Model: \"sequential\"\n",
            "_________________________________________________________________\n",
            "Layer (type)                 Output Shape              Param #   \n",
            "=================================================================\n",
            "flatten (Flatten)            (None, 784)               0         \n",
            "_________________________________________________________________\n",
            "dense (Dense)                (None, 128)               100480    \n",
            "_________________________________________________________________\n",
            "dense_1 (Dense)              (None, 10)                1290      \n",
            "=================================================================\n",
            "Total params: 101,770\n",
            "Trainable params: 101,770\n",
            "Non-trainable params: 0\n",
            "_________________________________________________________________\n"
          ],
          "name": "stdout"
        }
      ]
    },
    {
      "cell_type": "markdown",
      "metadata": {
        "id": "q7bR8PMQeaDg"
      },
      "source": [
        "Modelos sequencial  \n",
        "\n",
        "**Camada Flatten** - 784 que é 28 vezes 28 e Param # é 0 pq não temos nenhum parametro de peso. Estou apenas convertendo uma matriz em um vetor.  \n",
        "\n",
        "**Camada Dense** - saída 128 exatamente igual ao número de neuronios nesta camada. Param # é 100480 exatamente 784 elementos de entrada dessa camada vezes os 128 neuronios mais 128. Lembrando que para cada elemento de entrada temos um peso(parametro) para cada neuronio, por isso a multiplicação de 784x128 e cada neuronio possui um fator de viés, ou *bias* (lê-se baias?). Este bias será somado pq é um peso e para cada um dos neuronios nós temos um *baias*, logo 784x128+128=100480 parametros.  \n",
        "\n",
        "**Camada dense_1** - composta de 10 neuronios, a saida dessa camada será igual a 10 sendo 1 neuronio para cada classe e teremos 1290 parametros nessa classe 128x10=1280.  \n",
        "Somo aos 100480 da camada anterior e no total teremos 101770 parametros que serão treináveis no passo de treinamento da nossa rede neural.\n"
      ]
    },
    {
      "cell_type": "code",
      "metadata": {
        "id": "h9dmxHARdE2E"
      },
      "source": [
        "model.compile(optimizer='adam', \n",
        "              loss='sparse_categorical_crossentropy',\n",
        "              metrics=['accuracy'])"
      ],
      "execution_count": 12,
      "outputs": []
    },
    {
      "cell_type": "markdown",
      "metadata": {
        "id": "oer-BGi9iN2K"
      },
      "source": [
        "Compilando o modelo utilizando os parametros:  \n",
        "\n",
        "**optimizer='adam'** - é o otimizador para os pesos, é a tecnica utilizada para a construção dos pesos para o treinamento.  \n",
        "\n",
        "**loss** - metrica de erro, entropia cruzada categórica esparsa. Tecnica que permite trabalhar com resultados que possui muitos valores próximos a 0 e alguns valores prox a 1. Que contempla os valores de saída destes neuronios.  \n",
        "\n",
        "**metrics=['accuracy']** - porcentagem de elementos classificados corretamente sobre o total. Assim compila o modelo e já posso treinar."
      ]
    },
    {
      "cell_type": "code",
      "metadata": {
        "colab": {
          "base_uri": "https://localhost:8080/"
        },
        "id": "Sk8JgbU7dO0G",
        "outputId": "8571121b-0e24-4ed6-9eea-1d058c291461"
      },
      "source": [
        "# Treinando o modelo com 5 épocas.\n",
        "# epochs=5 é 5 iterações dos nossos conjuntos de dados para construir um bom modelo. \n",
        "# Pode aumentar ou diminuir de acordo com o modelo e dificuldade dos dados - dados + complexos precisam de mais epocas.\n",
        "model.fit(train_images, train_labels, epochs=5)"
      ],
      "execution_count": 13,
      "outputs": [
        {
          "output_type": "stream",
          "text": [
            "Epoch 1/5\n",
            "1875/1875 [==============================] - 4s 2ms/step - loss: 0.6306 - accuracy: 0.7810\n",
            "Epoch 2/5\n",
            "1875/1875 [==============================] - 4s 2ms/step - loss: 0.3817 - accuracy: 0.8638\n",
            "Epoch 3/5\n",
            "1875/1875 [==============================] - 4s 2ms/step - loss: 0.3401 - accuracy: 0.8753\n",
            "Epoch 4/5\n",
            "1875/1875 [==============================] - 4s 2ms/step - loss: 0.3117 - accuracy: 0.8854\n",
            "Epoch 5/5\n",
            "1875/1875 [==============================] - 4s 2ms/step - loss: 0.2883 - accuracy: 0.8926\n"
          ],
          "name": "stdout"
        },
        {
          "output_type": "execute_result",
          "data": {
            "text/plain": [
              "<tensorflow.python.keras.callbacks.History at 0x7f8a358fc750>"
            ]
          },
          "metadata": {
            "tags": []
          },
          "execution_count": 13
        }
      ]
    },
    {
      "cell_type": "markdown",
      "metadata": {
        "id": "AU0Zgz4ekOdc"
      },
      "source": [
        "Acima cada época foi treinada e apresenta a quantidadde de elementos sendo treinados o valor de erro e a acurácia.  \n",
        "Na primeira época temos 78% de acurácia e no total esse modelo tem 89,26% de acurácia. Acurácia para nossos dados de treino.  \n",
        "Observar a evolução no crescimento da acurácia, da primeira para a segunda 8% de aumento da acurácia, da segunda para a terceira foi 1% e assim vai reduzindo até menos de 1%. Sendo assim, mais épocas poderia ocasionar um overfitting. Posso ter uma métrica muito boa para treino mas metricas nao tao boas para teste."
      ]
    },
    {
      "cell_type": "code",
      "metadata": {
        "colab": {
          "base_uri": "https://localhost:8080/"
        },
        "id": "7kFVpiFpX-U5",
        "outputId": "c87d3c33-b9dc-479c-c001-9f375d27b3b9"
      },
      "source": [
        "# Avaliando o conjunto de dados sobre os dados de teste\n",
        "test_loss, test_acc = model.evaluate(test_images, test_labels)\n",
        "\n",
        "print('Test accuracy:', test_acc)"
      ],
      "execution_count": 14,
      "outputs": [
        {
          "output_type": "stream",
          "text": [
            "313/313 [==============================] - 1s 1ms/step - loss: 0.3439 - accuracy: 0.8758\n",
            "Test accuracy: 0.8758000135421753\n"
          ],
          "name": "stdout"
        }
      ]
    },
    {
      "cell_type": "markdown",
      "metadata": {
        "id": "X1QcJvqUm6DF"
      },
      "source": [
        "Acima o modelo avalia as imagens de teste e seus rótulos e irá guardar tanto o valor de erro na variável test_loss quanto o valor de acurácia na variável test_acc.  \n",
        "A acurácia do conjunto de teste foi de 87,58%  \n",
        "Uma acurácia elevada e com isso já posso treinar o modelo."
      ]
    },
    {
      "cell_type": "code",
      "metadata": {
        "id": "HHB1FpYwX-rk"
      },
      "source": [
        "# Avaliando o modelo de forma individual com o método predict\n",
        "# Cria uma predição para cada uma das imagens de test e armazena na variável.\n",
        "predictions = model.predict(test_images)"
      ],
      "execution_count": 15,
      "outputs": []
    },
    {
      "cell_type": "code",
      "metadata": {
        "colab": {
          "base_uri": "https://localhost:8080/"
        },
        "id": "M_AXk1K6X_VN",
        "outputId": "626384a3-caec-464a-d23f-35e8e2a89e50"
      },
      "source": [
        "# imprimindo a primeira predição\n",
        "predictions[0]"
      ],
      "execution_count": 16,
      "outputs": [
        {
          "output_type": "execute_result",
          "data": {
            "text/plain": [
              "array([1.8607124e-04, 2.0716036e-06, 1.6939612e-05, 2.4970493e-06,\n",
              "       2.3190431e-05, 3.0099398e-02, 2.2312635e-05, 1.4840637e-02,\n",
              "       2.4410307e-03, 9.5236588e-01], dtype=float32)"
            ]
          },
          "metadata": {
            "tags": []
          },
          "execution_count": 16
        }
      ]
    },
    {
      "cell_type": "markdown",
      "metadata": {
        "id": "zdL7Bh2QqF1X"
      },
      "source": [
        "Retorna um array com 10 elementos cada um deles números em notação científica. Todos eles bem próximos a 0, valores bem pequenos (exceto 1).   \n",
        "A classificação se dará pelo maior valor de predição que teremos dentre esses predictions. Ao inves de ter que olhar e verificar cada um desses valores nós podemos utilizar o NymPy para verificar o índice cujo o elemento é o máximo."
      ]
    },
    {
      "cell_type": "code",
      "metadata": {
        "colab": {
          "base_uri": "https://localhost:8080/"
        },
        "id": "K_BKUY0iX_ow",
        "outputId": "48030a43-ba44-4124-98a6-0bb3e2d81074"
      },
      "source": [
        "np.argmax(predictions[0])"
      ],
      "execution_count": 17,
      "outputs": [
        {
          "output_type": "execute_result",
          "data": {
            "text/plain": [
              "9"
            ]
          },
          "metadata": {
            "tags": []
          },
          "execution_count": 17
        }
      ]
    },
    {
      "cell_type": "markdown",
      "metadata": {
        "id": "1V89jCjYq9bv"
      },
      "source": [
        "O elemento de índice 9 é o máximo. A classe 9 é a que corresponde a nossa classficiação. Se for comparar o rotulo da imagem 0 teremos que o rótulo dela é 9. Para a primeira imagem de test nosso modelo acertou a predição.  \n"
      ]
    },
    {
      "cell_type": "code",
      "metadata": {
        "colab": {
          "base_uri": "https://localhost:8080/"
        },
        "id": "WZyEVSYtYW0g",
        "outputId": "ba55a946-5942-420b-de92-501906ee2696"
      },
      "source": [
        "test_labels[0]"
      ],
      "execution_count": 18,
      "outputs": [
        {
          "output_type": "execute_result",
          "data": {
            "text/plain": [
              "9"
            ]
          },
          "metadata": {
            "tags": []
          },
          "execution_count": 18
        }
      ]
    },
    {
      "cell_type": "code",
      "metadata": {
        "colab": {
          "base_uri": "https://localhost:8080/"
        },
        "id": "PIDrHcSOYXUn",
        "outputId": "b61b7cb6-8ada-4708-90b2-54a61eb3133c"
      },
      "source": [
        "# avaliação separada\n",
        "img = test_images[0]\n",
        "\n",
        "print(img.shape)"
      ],
      "execution_count": 19,
      "outputs": [
        {
          "output_type": "stream",
          "text": [
            "(28, 28)\n"
          ],
          "name": "stdout"
        }
      ]
    },
    {
      "cell_type": "markdown",
      "metadata": {
        "id": "WETjEB7Krv8D"
      },
      "source": [
        "Acima.  \n",
        " Se quiser fazer avaliação separada, individual de cada uma das imagens posso utilizar imagem por imagem.\n",
        "Coloco a primeira imagem de test em uma variavel separada.  \n",
        "Printando vejo que a primeira imag de test tem 28 por 28. O modelo espera que um vetor de img seja passado e aqui tenho apenas uma img. Utilizo Numpy para expandir a dimensão dessa imagem e ter um vetor como única imagem. Utilizo o comando abaixo"
      ]
    },
    {
      "cell_type": "code",
      "metadata": {
        "colab": {
          "base_uri": "https://localhost:8080/"
        },
        "id": "JLhJdpS2YbgX",
        "outputId": "b60a7b13-478b-431b-b717-b3a2e7b99cac"
      },
      "source": [
        "# img recebe um vetor de imagens\n",
        "img = (np.expand_dims(img,0))\n",
        "print(img.shape)"
      ],
      "execution_count": 21,
      "outputs": [
        {
          "output_type": "stream",
          "text": [
            "(1, 1, 28, 28)\n"
          ],
          "name": "stdout"
        }
      ]
    },
    {
      "cell_type": "markdown",
      "metadata": {
        "id": "kz7IjO-VtSLK"
      },
      "source": [
        "vetor unitário com 1 img de 28 por 28"
      ]
    },
    {
      "cell_type": "code",
      "metadata": {
        "colab": {
          "base_uri": "https://localhost:8080/"
        },
        "id": "OjJ_2k0CYeDm",
        "outputId": "4ecda72c-32b0-4fc8-c8fd-fb68fefcb9df"
      },
      "source": [
        "# aplico a img com dimensão expandida ao modelo já que se espera um vetor de imgs\n",
        "# armazeno na predictions_single\n",
        "predictions_single = model.predict(img)\n",
        "\n",
        "print(predictions_single)"
      ],
      "execution_count": 22,
      "outputs": [
        {
          "output_type": "stream",
          "text": [
            "WARNING:tensorflow:Model was constructed with shape (None, 28, 28) for input KerasTensor(type_spec=TensorSpec(shape=(None, 28, 28), dtype=tf.float32, name='flatten_input'), name='flatten_input', description=\"created by layer 'flatten_input'\"), but it was called on an input with incompatible shape (None, 1, 28, 28).\n",
            "[[1.8607124e-04 2.0716036e-06 1.6939612e-05 2.4970445e-06 2.3190431e-05\n",
            "  3.0099425e-02 2.2312572e-05 1.4840637e-02 2.4410319e-03 9.5236588e-01]]\n"
          ],
          "name": "stdout"
        }
      ]
    },
    {
      "cell_type": "markdown",
      "metadata": {
        "id": "69ju9zq6t3Ne"
      },
      "source": [
        "Tenho a predição de uma única imagem  \n",
        "[[1.8607124e-04 2.0716036e-06 1.6939612e-05 2.4970445e-06 2.3190431e-05\n",
        "  3.0099425e-02 2.2312572e-05 1.4840637e-02 2.4410319e-03 9.5236588e-01]]"
      ]
    },
    {
      "cell_type": "code",
      "metadata": {
        "colab": {
          "base_uri": "https://localhost:8080/"
        },
        "id": "2CfvNH1gtX74",
        "outputId": "aa98388b-2014-4a1a-9c6e-6f4c9837b2a0"
      },
      "source": [
        "# faço as predições novamente e tenho o mesmo resultado\n",
        "np.argmax(predictions_single[0])"
      ],
      "execution_count": 23,
      "outputs": [
        {
          "output_type": "execute_result",
          "data": {
            "text/plain": [
              "9"
            ]
          },
          "metadata": {
            "tags": []
          },
          "execution_count": 23
        }
      ]
    },
    {
      "cell_type": "code",
      "metadata": {
        "id": "3dULBQ8auCml"
      },
      "source": [
        ""
      ],
      "execution_count": null,
      "outputs": []
    }
  ]
}