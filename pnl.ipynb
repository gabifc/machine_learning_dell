{
  "nbformat": 4,
  "nbformat_minor": 0,
  "metadata": {
    "colab": {
      "name": "pnl.ipynb",
      "provenance": [],
      "authorship_tag": "ABX9TyOQN2n8fXx000AJeQcxwpSf",
      "include_colab_link": true
    },
    "kernelspec": {
      "name": "python3",
      "display_name": "Python 3"
    }
  },
  "cells": [
    {
      "cell_type": "markdown",
      "metadata": {
        "id": "view-in-github",
        "colab_type": "text"
      },
      "source": [
        "<a href=\"https://colab.research.google.com/github/gabifc/machine_learning_dell/blob/main/pnl.ipynb\" target=\"_parent\"><img src=\"https://colab.research.google.com/assets/colab-badge.svg\" alt=\"Open In Colab\"/></a>"
      ]
    },
    {
      "cell_type": "markdown",
      "metadata": {
        "id": "iQK8Q_iP5mTK"
      },
      "source": [
        "## Biblioteca Natural Language Tolkit - nltk"
      ]
    },
    {
      "cell_type": "code",
      "metadata": {
        "id": "t7vdKj07JTss",
        "colab": {
          "base_uri": "https://localhost:8080/"
        },
        "outputId": "5d6b2700-dfc3-417f-dac1-ac39bdfc7836"
      },
      "source": [
        "! pip install nltk\n",
        "import nltk"
      ],
      "execution_count": 5,
      "outputs": [
        {
          "output_type": "stream",
          "text": [
            "Requirement already satisfied: nltk in /usr/local/lib/python3.7/dist-packages (3.2.5)\n",
            "Requirement already satisfied: six in /usr/local/lib/python3.7/dist-packages (from nltk) (1.15.0)\n"
          ],
          "name": "stdout"
        }
      ]
    },
    {
      "cell_type": "markdown",
      "metadata": {
        "id": "0hoVfkBb57WQ"
      },
      "source": [
        "**download das stop words**"
      ]
    },
    {
      "cell_type": "code",
      "metadata": {
        "id": "ROyoihHSJaSy"
      },
      "source": [
        "nltk.download('stopwords')"
      ],
      "execution_count": null,
      "outputs": []
    },
    {
      "cell_type": "markdown",
      "metadata": {
        "id": "BxacWNg46R4s"
      },
      "source": [
        "**Stop words em PT**"
      ]
    },
    {
      "cell_type": "code",
      "metadata": {
        "colab": {
          "base_uri": "https://localhost:8080/"
        },
        "id": "oDMEqJxYy7W6",
        "outputId": "cc043049-c7b4-4e19-fb69-3962b626bd5b"
      },
      "source": [
        "stopwords = nltk.corpus.stopwords.words('portuguese')\n",
        "\n",
        "print(stopwords)"
      ],
      "execution_count": 3,
      "outputs": [
        {
          "output_type": "stream",
          "text": [
            "['de', 'a', 'o', 'que', 'e', 'é', 'do', 'da', 'em', 'um', 'para', 'com', 'não', 'uma', 'os', 'no', 'se', 'na', 'por', 'mais', 'as', 'dos', 'como', 'mas', 'ao', 'ele', 'das', 'à', 'seu', 'sua', 'ou', 'quando', 'muito', 'nos', 'já', 'eu', 'também', 'só', 'pelo', 'pela', 'até', 'isso', 'ela', 'entre', 'depois', 'sem', 'mesmo', 'aos', 'seus', 'quem', 'nas', 'me', 'esse', 'eles', 'você', 'essa', 'num', 'nem', 'suas', 'meu', 'às', 'minha', 'numa', 'pelos', 'elas', 'qual', 'nós', 'lhe', 'deles', 'essas', 'esses', 'pelas', 'este', 'dele', 'tu', 'te', 'vocês', 'vos', 'lhes', 'meus', 'minhas', 'teu', 'tua', 'teus', 'tuas', 'nosso', 'nossa', 'nossos', 'nossas', 'dela', 'delas', 'esta', 'estes', 'estas', 'aquele', 'aquela', 'aqueles', 'aquelas', 'isto', 'aquilo', 'estou', 'está', 'estamos', 'estão', 'estive', 'esteve', 'estivemos', 'estiveram', 'estava', 'estávamos', 'estavam', 'estivera', 'estivéramos', 'esteja', 'estejamos', 'estejam', 'estivesse', 'estivéssemos', 'estivessem', 'estiver', 'estivermos', 'estiverem', 'hei', 'há', 'havemos', 'hão', 'houve', 'houvemos', 'houveram', 'houvera', 'houvéramos', 'haja', 'hajamos', 'hajam', 'houvesse', 'houvéssemos', 'houvessem', 'houver', 'houvermos', 'houverem', 'houverei', 'houverá', 'houveremos', 'houverão', 'houveria', 'houveríamos', 'houveriam', 'sou', 'somos', 'são', 'era', 'éramos', 'eram', 'fui', 'foi', 'fomos', 'foram', 'fora', 'fôramos', 'seja', 'sejamos', 'sejam', 'fosse', 'fôssemos', 'fossem', 'for', 'formos', 'forem', 'serei', 'será', 'seremos', 'serão', 'seria', 'seríamos', 'seriam', 'tenho', 'tem', 'temos', 'tém', 'tinha', 'tínhamos', 'tinham', 'tive', 'teve', 'tivemos', 'tiveram', 'tivera', 'tivéramos', 'tenha', 'tenhamos', 'tenham', 'tivesse', 'tivéssemos', 'tivessem', 'tiver', 'tivermos', 'tiverem', 'terei', 'terá', 'teremos', 'terão', 'teria', 'teríamos', 'teriam']\n"
          ],
          "name": "stdout"
        }
      ]
    },
    {
      "cell_type": "markdown",
      "metadata": {
        "id": "u7_Resut6C1F"
      },
      "source": [
        "**Tokenização**"
      ]
    },
    {
      "cell_type": "code",
      "metadata": {
        "colab": {
          "base_uri": "https://localhost:8080/"
        },
        "id": "paoA3hvuy-nU",
        "outputId": "eb807032-5ae1-4245-cd82-f325ac1ed0a2"
      },
      "source": [
        "from nltk.tokenize import word_tokenize\n",
        "nltk.download('punkt')"
      ],
      "execution_count": 4,
      "outputs": [
        {
          "output_type": "stream",
          "text": [
            "[nltk_data] Downloading package punkt to /root/nltk_data...\n",
            "[nltk_data]   Unzipping tokenizers/punkt.zip.\n"
          ],
          "name": "stdout"
        },
        {
          "output_type": "execute_result",
          "data": {
            "text/plain": [
              "True"
            ]
          },
          "metadata": {
            "tags": []
          },
          "execution_count": 4
        }
      ]
    },
    {
      "cell_type": "code",
      "metadata": {
        "id": "QJOJKQ6yzCFb"
      },
      "source": [
        "frase = 'Eu dirijo devagar porque nós queremos ver os animais.'"
      ],
      "execution_count": 6,
      "outputs": []
    },
    {
      "cell_type": "code",
      "metadata": {
        "id": "_CXWnr_a6lKE"
      },
      "source": [
        "tokens = word_tokenize(frase)"
      ],
      "execution_count": 7,
      "outputs": []
    },
    {
      "cell_type": "code",
      "metadata": {
        "colab": {
          "base_uri": "https://localhost:8080/"
        },
        "id": "3uhEcQ9P7Cwp",
        "outputId": "0bf5ecdb-44b1-4c95-bbfb-56099cd00763"
      },
      "source": [
        "print(tokens) # para ver como os tokens foram criados"
      ],
      "execution_count": 8,
      "outputs": [
        {
          "output_type": "stream",
          "text": [
            "['Eu', 'dirijo', 'devagar', 'porque', 'nós', 'queremos', 'ver', 'os', 'animais', '.']\n"
          ],
          "name": "stdout"
        }
      ]
    },
    {
      "cell_type": "markdown",
      "metadata": {
        "id": "ADHF4hIj7KIc"
      },
      "source": [
        "Com a lista criada, o loop com a condição if para não imprimir a stopword caso ela exista em cada token."
      ]
    },
    {
      "cell_type": "code",
      "metadata": {
        "colab": {
          "base_uri": "https://localhost:8080/"
        },
        "id": "ZqFKXvrD7DFf",
        "outputId": "f6d51cc2-a0dc-4827-8876-d22396eae9e2"
      },
      "source": [
        "for t in tokens:\n",
        "    if t not in stopwords:\n",
        "        print(t)"
      ],
      "execution_count": 9,
      "outputs": [
        {
          "output_type": "stream",
          "text": [
            "Eu\n",
            "dirijo\n",
            "devagar\n",
            "porque\n",
            "queremos\n",
            "ver\n",
            "animais\n",
            ".\n"
          ],
          "name": "stdout"
        }
      ]
    },
    {
      "cell_type": "markdown",
      "metadata": {
        "id": "0h_QGD_Y7nFK"
      },
      "source": [
        "removeu os stopwords nós e os que são as stopwords da variavel frase."
      ]
    },
    {
      "cell_type": "markdown",
      "metadata": {
        "id": "ae_iWs8R8DYE"
      },
      "source": [
        "# Frequencia do Termo - TF-IDF  \n",
        "Atribuição de um peso para cada termo. Quanto mais um termo aparece maior será o TF-IDF.  \n",
        "\n",
        "## Módulo TfidfVectorRizer"
      ]
    },
    {
      "cell_type": "code",
      "metadata": {
        "id": "ZjnsBj417Di7"
      },
      "source": [
        "from sklearn.feature_extraction.text import TfidfVectorizer\n",
        "import pandas as pd"
      ],
      "execution_count": 10,
      "outputs": []
    },
    {
      "cell_type": "code",
      "metadata": {
        "id": "4NR9UoNw8uGW"
      },
      "source": [
        "texto1 = 'A matemática é muito importante para compreendermos como a natureza funciona'"
      ],
      "execution_count": 11,
      "outputs": []
    },
    {
      "cell_type": "code",
      "metadata": {
        "id": "-CZKbxRt8yYq"
      },
      "source": [
        "# Instanciando o módulo\n",
        "tf_idf = TfidfVectorizer()"
      ],
      "execution_count": 12,
      "outputs": []
    },
    {
      "cell_type": "markdown",
      "metadata": {
        "id": "ZFYicmXW91gC"
      },
      "source": [
        "**Usando fit_transform**"
      ]
    },
    {
      "cell_type": "code",
      "metadata": {
        "colab": {
          "base_uri": "https://localhost:8080/"
        },
        "id": "Rvy1lzbd8yrq",
        "outputId": "038924c7-b186-4ff5-8b7c-ce20657557ec"
      },
      "source": [
        "vetor = tf_idf.fit_transform([texto1])\n",
        "print(vetor)\n",
        "# Retorna uma matriz com os termos e os scores associados passando o texto1 como conteúdo."
      ],
      "execution_count": 13,
      "outputs": [
        {
          "output_type": "stream",
          "text": [
            "  (0, 2)\t0.35355339059327373\n",
            "  (0, 6)\t0.35355339059327373\n",
            "  (0, 0)\t0.35355339059327373\n",
            "  (0, 1)\t0.35355339059327373\n",
            "  (0, 7)\t0.35355339059327373\n",
            "  (0, 3)\t0.35355339059327373\n",
            "  (0, 5)\t0.35355339059327373\n",
            "  (0, 4)\t0.35355339059327373\n"
          ],
          "name": "stdout"
        }
      ]
    },
    {
      "cell_type": "markdown",
      "metadata": {
        "id": "ECMvhkjN9CXK"
      },
      "source": [
        "Para colocar no formato de um array uso o comando abaixo:"
      ]
    },
    {
      "cell_type": "code",
      "metadata": {
        "colab": {
          "base_uri": "https://localhost:8080/"
        },
        "id": "WAdCkRyk8y_8",
        "outputId": "68b3377b-5d08-47cd-d923-83f7698718a9"
      },
      "source": [
        "vetor = vetor.todense()\n",
        "print(vetor)"
      ],
      "execution_count": 14,
      "outputs": [
        {
          "output_type": "stream",
          "text": [
            "[[0.35355339 0.35355339 0.35355339 0.35355339 0.35355339 0.35355339\n",
            "  0.35355339 0.35355339]]\n"
          ],
          "name": "stdout"
        }
      ]
    },
    {
      "cell_type": "code",
      "metadata": {
        "id": "rt1eCeDd9j47"
      },
      "source": [
        "# para obter os nbomes das palavras mapeadas\n",
        "nomes = tf_idf.get_feature_names()"
      ],
      "execution_count": 16,
      "outputs": []
    },
    {
      "cell_type": "code",
      "metadata": {
        "colab": {
          "base_uri": "https://localhost:8080/"
        },
        "id": "qNSRZdG39nAO",
        "outputId": "af0d160a-09e5-4b69-ece6-48d98341f9d4"
      },
      "source": [
        "df = pd.DataFrame(vetor, columns=nomes)\n",
        "print(df)"
      ],
      "execution_count": 17,
      "outputs": [
        {
          "output_type": "stream",
          "text": [
            "       como  compreendermos  funciona  ...     muito  natureza      para\n",
            "0  0.353553        0.353553  0.353553  ...  0.353553  0.353553  0.353553\n",
            "\n",
            "[1 rows x 8 columns]\n"
          ],
          "name": "stdout"
        }
      ]
    },
    {
      "cell_type": "markdown",
      "metadata": {
        "id": "9VhdwQkoEGmb"
      },
      "source": [
        "Analisando o resultado: O tf-idf deu o mesmo score para todos os termos já que eles aparecerem apenas uma vez cada."
      ]
    },
    {
      "cell_type": "markdown",
      "metadata": {
        "id": "NxpK4jtt99A3"
      },
      "source": [
        "# `Usando novo texto`"
      ]
    },
    {
      "cell_type": "code",
      "metadata": {
        "id": "N5_HLh9o9oFH"
      },
      "source": [
        "texto2 = 'A matemática é incrível, quanto mais estudo matemática, mais eu consigo aprender matemática'"
      ],
      "execution_count": 18,
      "outputs": []
    },
    {
      "cell_type": "code",
      "metadata": {
        "id": "pcWXOAWi9rnE"
      },
      "source": [
        "tf_idf = TfidfVectorizer()\n",
        "vetor2 = tf_idf.fit_transform([texto2])\n"
      ],
      "execution_count": 19,
      "outputs": []
    },
    {
      "cell_type": "code",
      "metadata": {
        "id": "2i2P4NYH9sH_"
      },
      "source": [
        "vetor2 = vetor2.todense()"
      ],
      "execution_count": 20,
      "outputs": []
    },
    {
      "cell_type": "code",
      "metadata": {
        "id": "XWRGcwEg9se1"
      },
      "source": [
        "nomes = tf_idf.get_feature_names()"
      ],
      "execution_count": 21,
      "outputs": []
    },
    {
      "cell_type": "code",
      "metadata": {
        "colab": {
          "base_uri": "https://localhost:8080/"
        },
        "id": "oUaHG4TL9spl",
        "outputId": "2ab45fc1-3104-4f66-b4d2-09bcf0c0716d"
      },
      "source": [
        "df = pd.DataFrame(vetor2, columns=nomes)\n",
        "print(df)"
      ],
      "execution_count": 22,
      "outputs": [
        {
          "output_type": "stream",
          "text": [
            "   aprender   consigo    estudo  ...      mais  matemática    quanto\n",
            "0  0.229416  0.229416  0.229416  ...  0.458831    0.688247  0.229416\n",
            "\n",
            "[1 rows x 8 columns]\n"
          ],
          "name": "stdout"
        }
      ]
    },
    {
      "cell_type": "markdown",
      "metadata": {
        "id": "MNkg-j8UEhZ_"
      },
      "source": [
        "Matemática recebe o maior score pq aparece várias vezes no texto."
      ]
    }
  ]
}