{
  "nbformat": 4,
  "nbformat_minor": 0,
  "metadata": {
    "colab": {
      "name": "redes_neurais.ipynb",
      "provenance": [],
      "authorship_tag": "ABX9TyOn1FQ9fRl/uxkbm+H7m9KG",
      "include_colab_link": true
    },
    "kernelspec": {
      "name": "python3",
      "display_name": "Python 3"
    },
    "language_info": {
      "name": "python"
    }
  },
  "cells": [
    {
      "cell_type": "markdown",
      "metadata": {
        "id": "view-in-github",
        "colab_type": "text"
      },
      "source": [
        "<a href=\"https://colab.research.google.com/github/gabifc/machine_learning_dell/blob/main/redes_neurais.ipynb\" target=\"_parent\"><img src=\"https://colab.research.google.com/assets/colab-badge.svg\" alt=\"Open In Colab\"/></a>"
      ]
    },
    {
      "cell_type": "markdown",
      "metadata": {
        "id": "u2mfx44DG-jf"
      },
      "source": [
        "#Introdução às redes neurais\n"
      ]
    },
    {
      "cell_type": "code",
      "metadata": {
        "id": "duOEeK6SHDWW"
      },
      "source": [
        "from sklearn.neural_network import MLPRegressor\n",
        "from sklearn.model_selection import train_test_split\n",
        "from sklearn.preprocessing import MinMaxScaler\n",
        "from sklearn.datasets import load_boston"
      ],
      "execution_count": 3,
      "outputs": []
    },
    {
      "cell_type": "code",
      "metadata": {
        "id": "gQs_E5szHOL_"
      },
      "source": [
        "X,y = load_boston(return_X_y=True)"
      ],
      "execution_count": 4,
      "outputs": []
    },
    {
      "cell_type": "code",
      "metadata": {
        "id": "sI5SMVBhLOR4"
      },
      "source": [
        "X_train, X_test, y_train, y_test = train_test_split(X,y)"
      ],
      "execution_count": 5,
      "outputs": []
    },
    {
      "cell_type": "markdown",
      "metadata": {
        "id": "yTjVn0MsMTtn"
      },
      "source": [
        "#MinMaxScaler()  \n",
        "por ser técnica de retropropagação ela vai se beneficiar de variaveis em uma escala pequena e parecida, o minimax tranforma em uma escala menor."
      ]
    },
    {
      "cell_type": "code",
      "metadata": {
        "id": "8jEOeuFLLRr7"
      },
      "source": [
        "mm = MinMaxScaler()\n",
        "X_train = mm.fit_transform(X_train)\n",
        "X_test = mm.transform(X_test) # transformando os dados de teste de acordo com os limites dos dados de traino."
      ],
      "execution_count": 6,
      "outputs": []
    },
    {
      "cell_type": "markdown",
      "metadata": {
        "id": "ARHD1A7-Nars"
      },
      "source": [
        "Armazeno a rede na variavel mlp.  \n",
        "Nos parametros tamanho das camadas escondidas/intermediarias e passo a quantidade de camadas.  \n",
        "Segundo é o max de interações.  \n",
        "Aumentar a quantidade de neuronios no hidden melhora o resultado no score."
      ]
    },
    {
      "cell_type": "code",
      "metadata": {
        "id": "K5hgNk8iLUgx"
      },
      "source": [
        "mlp = MLPRegressor(hidden_layer_sizes=(100,100,50,50),max_iter=1000)"
      ],
      "execution_count": 7,
      "outputs": []
    },
    {
      "cell_type": "code",
      "metadata": {
        "colab": {
          "base_uri": "https://localhost:8080/"
        },
        "id": "kmulGmCqLXlp",
        "outputId": "08c944b8-7829-41d9-f7ab-4f966cca6c41"
      },
      "source": [
        "mlp.fit(X_train,y_train)"
      ],
      "execution_count": 8,
      "outputs": [
        {
          "output_type": "execute_result",
          "data": {
            "text/plain": [
              "MLPRegressor(activation='relu', alpha=0.0001, batch_size='auto', beta_1=0.9,\n",
              "             beta_2=0.999, early_stopping=False, epsilon=1e-08,\n",
              "             hidden_layer_sizes=(100, 100, 50, 50), learning_rate='constant',\n",
              "             learning_rate_init=0.001, max_fun=15000, max_iter=1000,\n",
              "             momentum=0.9, n_iter_no_change=10, nesterovs_momentum=True,\n",
              "             power_t=0.5, random_state=None, shuffle=True, solver='adam',\n",
              "             tol=0.0001, validation_fraction=0.1, verbose=False,\n",
              "             warm_start=False)"
            ]
          },
          "metadata": {
            "tags": []
          },
          "execution_count": 8
        }
      ]
    },
    {
      "cell_type": "code",
      "metadata": {
        "colab": {
          "base_uri": "https://localhost:8080/"
        },
        "id": "8R_c07oPLbJo",
        "outputId": "05b0c9ca-b875-42e6-acd7-fb4e9317425a"
      },
      "source": [
        "mlp.score(X_test,y_test)"
      ],
      "execution_count": 9,
      "outputs": [
        {
          "output_type": "execute_result",
          "data": {
            "text/plain": [
              "0.7886412175575839"
            ]
          },
          "metadata": {
            "tags": []
          },
          "execution_count": 9
        }
      ]
    }
  ]
}