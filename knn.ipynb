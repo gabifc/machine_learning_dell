{
  "nbformat": 4,
  "nbformat_minor": 0,
  "metadata": {
    "colab": {
      "name": "knn.ipynb",
      "provenance": [],
      "toc_visible": true,
      "authorship_tag": "ABX9TyMu+1ilgdJgVOP2/v8JDyle",
      "include_colab_link": true
    },
    "kernelspec": {
      "name": "python3",
      "display_name": "Python 3"
    }
  },
  "cells": [
    {
      "cell_type": "markdown",
      "metadata": {
        "id": "view-in-github",
        "colab_type": "text"
      },
      "source": [
        "<a href=\"https://colab.research.google.com/github/gabifc/machine_learning_dell/blob/main/knn.ipynb\" target=\"_parent\"><img src=\"https://colab.research.google.com/assets/colab-badge.svg\" alt=\"Open In Colab\"/></a>"
      ]
    },
    {
      "cell_type": "markdown",
      "metadata": {
        "id": "WALRmrVqaR8t"
      },
      "source": [
        "###**Cálculo da Distância Euclidiana**\n",
        "independente da ordem dos elementos, preciso sempre ter um valor positivo. Para isso preciso elevar ao quadrado e tirar a raiz quadrada."
      ]
    },
    {
      "cell_type": "code",
      "metadata": {
        "colab": {
          "base_uri": "https://localhost:8080/"
        },
        "id": "76TlNL-5aNMw",
        "outputId": "13a3a7fe-e479-4c1c-dc02-6f9719f13bb2"
      },
      "source": [
        "2-5 # dá 3 negativo, logo"
      ],
      "execution_count": 10,
      "outputs": [
        {
          "output_type": "execute_result",
          "data": {
            "text/plain": [
              "-3"
            ]
          },
          "metadata": {
            "tags": []
          },
          "execution_count": 10
        }
      ]
    },
    {
      "cell_type": "code",
      "metadata": {
        "colab": {
          "base_uri": "https://localhost:8080/"
        },
        "id": "uIiqSBDNa3RO",
        "outputId": "00d59261-f287-4bca-9276-8c98d6ac6dd9"
      },
      "source": [
        "(2-5)**2 # elevo ao quadrado para eliminar qualquer possibilidade de negativar"
      ],
      "execution_count": 11,
      "outputs": [
        {
          "output_type": "execute_result",
          "data": {
            "text/plain": [
              "9"
            ]
          },
          "metadata": {
            "tags": []
          },
          "execution_count": 11
        }
      ]
    },
    {
      "cell_type": "code",
      "metadata": {
        "colab": {
          "base_uri": "https://localhost:8080/"
        },
        "id": "yr__c-aJa9fn",
        "outputId": "c2b2a0fb-8ba5-4304-b25f-f240b68b35b3"
      },
      "source": [
        "((2-5)**2)**(0.5) # tiro a raiz quadrada elevando a meio e assim obtenho o resultado"
      ],
      "execution_count": 12,
      "outputs": [
        {
          "output_type": "execute_result",
          "data": {
            "text/plain": [
              "3.0"
            ]
          },
          "metadata": {
            "tags": []
          },
          "execution_count": 12
        }
      ]
    },
    {
      "cell_type": "markdown",
      "metadata": {
        "id": "UhbjPoPkbXBB"
      },
      "source": [
        "###**Calculando a distância entre 2 itens**\n",
        "\n",
        "A fruta A tem 5 de massa e sua cor é 0.75\n",
        "A fruta B tem 2 de massa e sua cor é 0.50\n",
        "\n",
        "A fórmula é subtração da massa ao quadrado somada a subtração da cor ao quadrado e o resultado da soma tiro raiz quadrada."
      ]
    },
    {
      "cell_type": "code",
      "metadata": {
        "id": "I3Zzse04bSYB"
      },
      "source": [
        "a= [5,0.75]\n",
        "b= [2,0.50]"
      ],
      "execution_count": 13,
      "outputs": []
    },
    {
      "cell_type": "code",
      "metadata": {
        "colab": {
          "base_uri": "https://localhost:8080/"
        },
        "id": "ttUzExc5b7Og",
        "outputId": "cd298cab-396b-43f7-f528-cf92713d1e4d"
      },
      "source": [
        "((5-2)**2 + (0.75-0.50)**2)**0.5"
      ],
      "execution_count": 14,
      "outputs": [
        {
          "output_type": "execute_result",
          "data": {
            "text/plain": [
              "3.010398644698074"
            ]
          },
          "metadata": {
            "tags": []
          },
          "execution_count": 14
        }
      ]
    },
    {
      "cell_type": "markdown",
      "metadata": {
        "id": "Z3093djScTfV"
      },
      "source": [
        "# **KNN - Classificação**"
      ]
    },
    {
      "cell_type": "code",
      "metadata": {
        "id": "vGXBKN16cNnD"
      },
      "source": [
        "from sklearn.neighbors import KNeighborsClassifier\n",
        "import pandas as pd\n",
        "import numpy as np\n"
      ],
      "execution_count": 15,
      "outputs": []
    },
    {
      "cell_type": "markdown",
      "metadata": {
        "id": "7IlcZqX-nNQu"
      },
      "source": [
        "instanciar e no parametro o modelo irá comparar com os 3 vizinhos mais próximos. a quantidade 3 Pode ser alterada de acordo com a complexidade dos dados."
      ]
    },
    {
      "cell_type": "code",
      "metadata": {
        "id": "qLagjHUydu96"
      },
      "source": [
        "knn = KNeighborsClassifier(n_neighbors=3)"
      ],
      "execution_count": 53,
      "outputs": []
    },
    {
      "cell_type": "code",
      "metadata": {
        "id": "veUF-IF6gNrK"
      },
      "source": [
        "df = pd.read_table(\"fruit_data_with_colors.txt\")"
      ],
      "execution_count": 17,
      "outputs": []
    },
    {
      "cell_type": "code",
      "metadata": {
        "colab": {
          "base_uri": "https://localhost:8080/",
          "height": 1000
        },
        "id": "mR8QWveThESx",
        "outputId": "c48ab875-5d5c-4003-a887-3d3adaee98cd"
      },
      "source": [
        "df"
      ],
      "execution_count": 18,
      "outputs": [
        {
          "output_type": "execute_result",
          "data": {
            "text/html": [
              "<div>\n",
              "<style scoped>\n",
              "    .dataframe tbody tr th:only-of-type {\n",
              "        vertical-align: middle;\n",
              "    }\n",
              "\n",
              "    .dataframe tbody tr th {\n",
              "        vertical-align: top;\n",
              "    }\n",
              "\n",
              "    .dataframe thead th {\n",
              "        text-align: right;\n",
              "    }\n",
              "</style>\n",
              "<table border=\"1\" class=\"dataframe\">\n",
              "  <thead>\n",
              "    <tr style=\"text-align: right;\">\n",
              "      <th></th>\n",
              "      <th>fruit_label</th>\n",
              "      <th>fruit_name</th>\n",
              "      <th>fruit_subtype</th>\n",
              "      <th>mass</th>\n",
              "      <th>width</th>\n",
              "      <th>height</th>\n",
              "      <th>color_score</th>\n",
              "    </tr>\n",
              "  </thead>\n",
              "  <tbody>\n",
              "    <tr>\n",
              "      <th>0</th>\n",
              "      <td>1</td>\n",
              "      <td>apple</td>\n",
              "      <td>granny_smith</td>\n",
              "      <td>192</td>\n",
              "      <td>8.4</td>\n",
              "      <td>7.3</td>\n",
              "      <td>0.55</td>\n",
              "    </tr>\n",
              "    <tr>\n",
              "      <th>1</th>\n",
              "      <td>1</td>\n",
              "      <td>apple</td>\n",
              "      <td>granny_smith</td>\n",
              "      <td>180</td>\n",
              "      <td>8.0</td>\n",
              "      <td>6.8</td>\n",
              "      <td>0.59</td>\n",
              "    </tr>\n",
              "    <tr>\n",
              "      <th>2</th>\n",
              "      <td>1</td>\n",
              "      <td>apple</td>\n",
              "      <td>granny_smith</td>\n",
              "      <td>176</td>\n",
              "      <td>7.4</td>\n",
              "      <td>7.2</td>\n",
              "      <td>0.60</td>\n",
              "    </tr>\n",
              "    <tr>\n",
              "      <th>3</th>\n",
              "      <td>2</td>\n",
              "      <td>mandarin</td>\n",
              "      <td>mandarin</td>\n",
              "      <td>86</td>\n",
              "      <td>6.2</td>\n",
              "      <td>4.7</td>\n",
              "      <td>0.80</td>\n",
              "    </tr>\n",
              "    <tr>\n",
              "      <th>4</th>\n",
              "      <td>2</td>\n",
              "      <td>mandarin</td>\n",
              "      <td>mandarin</td>\n",
              "      <td>84</td>\n",
              "      <td>6.0</td>\n",
              "      <td>4.6</td>\n",
              "      <td>0.79</td>\n",
              "    </tr>\n",
              "    <tr>\n",
              "      <th>5</th>\n",
              "      <td>2</td>\n",
              "      <td>mandarin</td>\n",
              "      <td>mandarin</td>\n",
              "      <td>80</td>\n",
              "      <td>5.8</td>\n",
              "      <td>4.3</td>\n",
              "      <td>0.77</td>\n",
              "    </tr>\n",
              "    <tr>\n",
              "      <th>6</th>\n",
              "      <td>2</td>\n",
              "      <td>mandarin</td>\n",
              "      <td>mandarin</td>\n",
              "      <td>80</td>\n",
              "      <td>5.9</td>\n",
              "      <td>4.3</td>\n",
              "      <td>0.81</td>\n",
              "    </tr>\n",
              "    <tr>\n",
              "      <th>7</th>\n",
              "      <td>2</td>\n",
              "      <td>mandarin</td>\n",
              "      <td>mandarin</td>\n",
              "      <td>76</td>\n",
              "      <td>5.8</td>\n",
              "      <td>4.0</td>\n",
              "      <td>0.81</td>\n",
              "    </tr>\n",
              "    <tr>\n",
              "      <th>8</th>\n",
              "      <td>1</td>\n",
              "      <td>apple</td>\n",
              "      <td>braeburn</td>\n",
              "      <td>178</td>\n",
              "      <td>7.1</td>\n",
              "      <td>7.8</td>\n",
              "      <td>0.92</td>\n",
              "    </tr>\n",
              "    <tr>\n",
              "      <th>9</th>\n",
              "      <td>1</td>\n",
              "      <td>apple</td>\n",
              "      <td>braeburn</td>\n",
              "      <td>172</td>\n",
              "      <td>7.4</td>\n",
              "      <td>7.0</td>\n",
              "      <td>0.89</td>\n",
              "    </tr>\n",
              "    <tr>\n",
              "      <th>10</th>\n",
              "      <td>1</td>\n",
              "      <td>apple</td>\n",
              "      <td>braeburn</td>\n",
              "      <td>166</td>\n",
              "      <td>6.9</td>\n",
              "      <td>7.3</td>\n",
              "      <td>0.93</td>\n",
              "    </tr>\n",
              "    <tr>\n",
              "      <th>11</th>\n",
              "      <td>1</td>\n",
              "      <td>apple</td>\n",
              "      <td>braeburn</td>\n",
              "      <td>172</td>\n",
              "      <td>7.1</td>\n",
              "      <td>7.6</td>\n",
              "      <td>0.92</td>\n",
              "    </tr>\n",
              "    <tr>\n",
              "      <th>12</th>\n",
              "      <td>1</td>\n",
              "      <td>apple</td>\n",
              "      <td>braeburn</td>\n",
              "      <td>154</td>\n",
              "      <td>7.0</td>\n",
              "      <td>7.1</td>\n",
              "      <td>0.88</td>\n",
              "    </tr>\n",
              "    <tr>\n",
              "      <th>13</th>\n",
              "      <td>1</td>\n",
              "      <td>apple</td>\n",
              "      <td>golden_delicious</td>\n",
              "      <td>164</td>\n",
              "      <td>7.3</td>\n",
              "      <td>7.7</td>\n",
              "      <td>0.70</td>\n",
              "    </tr>\n",
              "    <tr>\n",
              "      <th>14</th>\n",
              "      <td>1</td>\n",
              "      <td>apple</td>\n",
              "      <td>golden_delicious</td>\n",
              "      <td>152</td>\n",
              "      <td>7.6</td>\n",
              "      <td>7.3</td>\n",
              "      <td>0.69</td>\n",
              "    </tr>\n",
              "    <tr>\n",
              "      <th>15</th>\n",
              "      <td>1</td>\n",
              "      <td>apple</td>\n",
              "      <td>golden_delicious</td>\n",
              "      <td>156</td>\n",
              "      <td>7.7</td>\n",
              "      <td>7.1</td>\n",
              "      <td>0.69</td>\n",
              "    </tr>\n",
              "    <tr>\n",
              "      <th>16</th>\n",
              "      <td>1</td>\n",
              "      <td>apple</td>\n",
              "      <td>golden_delicious</td>\n",
              "      <td>156</td>\n",
              "      <td>7.6</td>\n",
              "      <td>7.5</td>\n",
              "      <td>0.67</td>\n",
              "    </tr>\n",
              "    <tr>\n",
              "      <th>17</th>\n",
              "      <td>1</td>\n",
              "      <td>apple</td>\n",
              "      <td>golden_delicious</td>\n",
              "      <td>168</td>\n",
              "      <td>7.5</td>\n",
              "      <td>7.6</td>\n",
              "      <td>0.73</td>\n",
              "    </tr>\n",
              "    <tr>\n",
              "      <th>18</th>\n",
              "      <td>1</td>\n",
              "      <td>apple</td>\n",
              "      <td>cripps_pink</td>\n",
              "      <td>162</td>\n",
              "      <td>7.5</td>\n",
              "      <td>7.1</td>\n",
              "      <td>0.83</td>\n",
              "    </tr>\n",
              "    <tr>\n",
              "      <th>19</th>\n",
              "      <td>1</td>\n",
              "      <td>apple</td>\n",
              "      <td>cripps_pink</td>\n",
              "      <td>162</td>\n",
              "      <td>7.4</td>\n",
              "      <td>7.2</td>\n",
              "      <td>0.85</td>\n",
              "    </tr>\n",
              "    <tr>\n",
              "      <th>20</th>\n",
              "      <td>1</td>\n",
              "      <td>apple</td>\n",
              "      <td>cripps_pink</td>\n",
              "      <td>160</td>\n",
              "      <td>7.5</td>\n",
              "      <td>7.5</td>\n",
              "      <td>0.86</td>\n",
              "    </tr>\n",
              "    <tr>\n",
              "      <th>21</th>\n",
              "      <td>1</td>\n",
              "      <td>apple</td>\n",
              "      <td>cripps_pink</td>\n",
              "      <td>156</td>\n",
              "      <td>7.4</td>\n",
              "      <td>7.4</td>\n",
              "      <td>0.84</td>\n",
              "    </tr>\n",
              "    <tr>\n",
              "      <th>22</th>\n",
              "      <td>1</td>\n",
              "      <td>apple</td>\n",
              "      <td>cripps_pink</td>\n",
              "      <td>140</td>\n",
              "      <td>7.3</td>\n",
              "      <td>7.1</td>\n",
              "      <td>0.87</td>\n",
              "    </tr>\n",
              "    <tr>\n",
              "      <th>23</th>\n",
              "      <td>1</td>\n",
              "      <td>apple</td>\n",
              "      <td>cripps_pink</td>\n",
              "      <td>170</td>\n",
              "      <td>7.6</td>\n",
              "      <td>7.9</td>\n",
              "      <td>0.88</td>\n",
              "    </tr>\n",
              "    <tr>\n",
              "      <th>24</th>\n",
              "      <td>3</td>\n",
              "      <td>orange</td>\n",
              "      <td>spanish_jumbo</td>\n",
              "      <td>342</td>\n",
              "      <td>9.0</td>\n",
              "      <td>9.4</td>\n",
              "      <td>0.75</td>\n",
              "    </tr>\n",
              "    <tr>\n",
              "      <th>25</th>\n",
              "      <td>3</td>\n",
              "      <td>orange</td>\n",
              "      <td>spanish_jumbo</td>\n",
              "      <td>356</td>\n",
              "      <td>9.2</td>\n",
              "      <td>9.2</td>\n",
              "      <td>0.75</td>\n",
              "    </tr>\n",
              "    <tr>\n",
              "      <th>26</th>\n",
              "      <td>3</td>\n",
              "      <td>orange</td>\n",
              "      <td>spanish_jumbo</td>\n",
              "      <td>362</td>\n",
              "      <td>9.6</td>\n",
              "      <td>9.2</td>\n",
              "      <td>0.74</td>\n",
              "    </tr>\n",
              "    <tr>\n",
              "      <th>27</th>\n",
              "      <td>3</td>\n",
              "      <td>orange</td>\n",
              "      <td>selected_seconds</td>\n",
              "      <td>204</td>\n",
              "      <td>7.5</td>\n",
              "      <td>9.2</td>\n",
              "      <td>0.77</td>\n",
              "    </tr>\n",
              "    <tr>\n",
              "      <th>28</th>\n",
              "      <td>3</td>\n",
              "      <td>orange</td>\n",
              "      <td>selected_seconds</td>\n",
              "      <td>140</td>\n",
              "      <td>6.7</td>\n",
              "      <td>7.1</td>\n",
              "      <td>0.72</td>\n",
              "    </tr>\n",
              "    <tr>\n",
              "      <th>29</th>\n",
              "      <td>3</td>\n",
              "      <td>orange</td>\n",
              "      <td>selected_seconds</td>\n",
              "      <td>160</td>\n",
              "      <td>7.0</td>\n",
              "      <td>7.4</td>\n",
              "      <td>0.81</td>\n",
              "    </tr>\n",
              "    <tr>\n",
              "      <th>30</th>\n",
              "      <td>3</td>\n",
              "      <td>orange</td>\n",
              "      <td>selected_seconds</td>\n",
              "      <td>158</td>\n",
              "      <td>7.1</td>\n",
              "      <td>7.5</td>\n",
              "      <td>0.79</td>\n",
              "    </tr>\n",
              "    <tr>\n",
              "      <th>31</th>\n",
              "      <td>3</td>\n",
              "      <td>orange</td>\n",
              "      <td>selected_seconds</td>\n",
              "      <td>210</td>\n",
              "      <td>7.8</td>\n",
              "      <td>8.0</td>\n",
              "      <td>0.82</td>\n",
              "    </tr>\n",
              "    <tr>\n",
              "      <th>32</th>\n",
              "      <td>3</td>\n",
              "      <td>orange</td>\n",
              "      <td>selected_seconds</td>\n",
              "      <td>164</td>\n",
              "      <td>7.2</td>\n",
              "      <td>7.0</td>\n",
              "      <td>0.80</td>\n",
              "    </tr>\n",
              "    <tr>\n",
              "      <th>33</th>\n",
              "      <td>3</td>\n",
              "      <td>orange</td>\n",
              "      <td>turkey_navel</td>\n",
              "      <td>190</td>\n",
              "      <td>7.5</td>\n",
              "      <td>8.1</td>\n",
              "      <td>0.74</td>\n",
              "    </tr>\n",
              "    <tr>\n",
              "      <th>34</th>\n",
              "      <td>3</td>\n",
              "      <td>orange</td>\n",
              "      <td>turkey_navel</td>\n",
              "      <td>142</td>\n",
              "      <td>7.6</td>\n",
              "      <td>7.8</td>\n",
              "      <td>0.75</td>\n",
              "    </tr>\n",
              "    <tr>\n",
              "      <th>35</th>\n",
              "      <td>3</td>\n",
              "      <td>orange</td>\n",
              "      <td>turkey_navel</td>\n",
              "      <td>150</td>\n",
              "      <td>7.1</td>\n",
              "      <td>7.9</td>\n",
              "      <td>0.75</td>\n",
              "    </tr>\n",
              "    <tr>\n",
              "      <th>36</th>\n",
              "      <td>3</td>\n",
              "      <td>orange</td>\n",
              "      <td>turkey_navel</td>\n",
              "      <td>160</td>\n",
              "      <td>7.1</td>\n",
              "      <td>7.6</td>\n",
              "      <td>0.76</td>\n",
              "    </tr>\n",
              "    <tr>\n",
              "      <th>37</th>\n",
              "      <td>3</td>\n",
              "      <td>orange</td>\n",
              "      <td>turkey_navel</td>\n",
              "      <td>154</td>\n",
              "      <td>7.3</td>\n",
              "      <td>7.3</td>\n",
              "      <td>0.79</td>\n",
              "    </tr>\n",
              "    <tr>\n",
              "      <th>38</th>\n",
              "      <td>3</td>\n",
              "      <td>orange</td>\n",
              "      <td>turkey_navel</td>\n",
              "      <td>158</td>\n",
              "      <td>7.2</td>\n",
              "      <td>7.8</td>\n",
              "      <td>0.77</td>\n",
              "    </tr>\n",
              "    <tr>\n",
              "      <th>39</th>\n",
              "      <td>3</td>\n",
              "      <td>orange</td>\n",
              "      <td>turkey_navel</td>\n",
              "      <td>144</td>\n",
              "      <td>6.8</td>\n",
              "      <td>7.4</td>\n",
              "      <td>0.75</td>\n",
              "    </tr>\n",
              "    <tr>\n",
              "      <th>40</th>\n",
              "      <td>3</td>\n",
              "      <td>orange</td>\n",
              "      <td>turkey_navel</td>\n",
              "      <td>154</td>\n",
              "      <td>7.1</td>\n",
              "      <td>7.5</td>\n",
              "      <td>0.78</td>\n",
              "    </tr>\n",
              "    <tr>\n",
              "      <th>41</th>\n",
              "      <td>3</td>\n",
              "      <td>orange</td>\n",
              "      <td>turkey_navel</td>\n",
              "      <td>180</td>\n",
              "      <td>7.6</td>\n",
              "      <td>8.2</td>\n",
              "      <td>0.79</td>\n",
              "    </tr>\n",
              "    <tr>\n",
              "      <th>42</th>\n",
              "      <td>3</td>\n",
              "      <td>orange</td>\n",
              "      <td>turkey_navel</td>\n",
              "      <td>154</td>\n",
              "      <td>7.2</td>\n",
              "      <td>7.2</td>\n",
              "      <td>0.82</td>\n",
              "    </tr>\n",
              "    <tr>\n",
              "      <th>43</th>\n",
              "      <td>4</td>\n",
              "      <td>lemon</td>\n",
              "      <td>spanish_belsan</td>\n",
              "      <td>194</td>\n",
              "      <td>7.2</td>\n",
              "      <td>10.3</td>\n",
              "      <td>0.70</td>\n",
              "    </tr>\n",
              "    <tr>\n",
              "      <th>44</th>\n",
              "      <td>4</td>\n",
              "      <td>lemon</td>\n",
              "      <td>spanish_belsan</td>\n",
              "      <td>200</td>\n",
              "      <td>7.3</td>\n",
              "      <td>10.5</td>\n",
              "      <td>0.72</td>\n",
              "    </tr>\n",
              "    <tr>\n",
              "      <th>45</th>\n",
              "      <td>4</td>\n",
              "      <td>lemon</td>\n",
              "      <td>spanish_belsan</td>\n",
              "      <td>186</td>\n",
              "      <td>7.2</td>\n",
              "      <td>9.2</td>\n",
              "      <td>0.72</td>\n",
              "    </tr>\n",
              "    <tr>\n",
              "      <th>46</th>\n",
              "      <td>4</td>\n",
              "      <td>lemon</td>\n",
              "      <td>spanish_belsan</td>\n",
              "      <td>216</td>\n",
              "      <td>7.3</td>\n",
              "      <td>10.2</td>\n",
              "      <td>0.71</td>\n",
              "    </tr>\n",
              "    <tr>\n",
              "      <th>47</th>\n",
              "      <td>4</td>\n",
              "      <td>lemon</td>\n",
              "      <td>spanish_belsan</td>\n",
              "      <td>196</td>\n",
              "      <td>7.3</td>\n",
              "      <td>9.7</td>\n",
              "      <td>0.72</td>\n",
              "    </tr>\n",
              "    <tr>\n",
              "      <th>48</th>\n",
              "      <td>4</td>\n",
              "      <td>lemon</td>\n",
              "      <td>spanish_belsan</td>\n",
              "      <td>174</td>\n",
              "      <td>7.3</td>\n",
              "      <td>10.1</td>\n",
              "      <td>0.72</td>\n",
              "    </tr>\n",
              "    <tr>\n",
              "      <th>49</th>\n",
              "      <td>4</td>\n",
              "      <td>lemon</td>\n",
              "      <td>unknown</td>\n",
              "      <td>132</td>\n",
              "      <td>5.8</td>\n",
              "      <td>8.7</td>\n",
              "      <td>0.73</td>\n",
              "    </tr>\n",
              "    <tr>\n",
              "      <th>50</th>\n",
              "      <td>4</td>\n",
              "      <td>lemon</td>\n",
              "      <td>unknown</td>\n",
              "      <td>130</td>\n",
              "      <td>6.0</td>\n",
              "      <td>8.2</td>\n",
              "      <td>0.71</td>\n",
              "    </tr>\n",
              "    <tr>\n",
              "      <th>51</th>\n",
              "      <td>4</td>\n",
              "      <td>lemon</td>\n",
              "      <td>unknown</td>\n",
              "      <td>116</td>\n",
              "      <td>6.0</td>\n",
              "      <td>7.5</td>\n",
              "      <td>0.72</td>\n",
              "    </tr>\n",
              "    <tr>\n",
              "      <th>52</th>\n",
              "      <td>4</td>\n",
              "      <td>lemon</td>\n",
              "      <td>unknown</td>\n",
              "      <td>118</td>\n",
              "      <td>5.9</td>\n",
              "      <td>8.0</td>\n",
              "      <td>0.72</td>\n",
              "    </tr>\n",
              "    <tr>\n",
              "      <th>53</th>\n",
              "      <td>4</td>\n",
              "      <td>lemon</td>\n",
              "      <td>unknown</td>\n",
              "      <td>120</td>\n",
              "      <td>6.0</td>\n",
              "      <td>8.4</td>\n",
              "      <td>0.74</td>\n",
              "    </tr>\n",
              "    <tr>\n",
              "      <th>54</th>\n",
              "      <td>4</td>\n",
              "      <td>lemon</td>\n",
              "      <td>unknown</td>\n",
              "      <td>116</td>\n",
              "      <td>6.1</td>\n",
              "      <td>8.5</td>\n",
              "      <td>0.71</td>\n",
              "    </tr>\n",
              "    <tr>\n",
              "      <th>55</th>\n",
              "      <td>4</td>\n",
              "      <td>lemon</td>\n",
              "      <td>unknown</td>\n",
              "      <td>116</td>\n",
              "      <td>6.3</td>\n",
              "      <td>7.7</td>\n",
              "      <td>0.72</td>\n",
              "    </tr>\n",
              "    <tr>\n",
              "      <th>56</th>\n",
              "      <td>4</td>\n",
              "      <td>lemon</td>\n",
              "      <td>unknown</td>\n",
              "      <td>116</td>\n",
              "      <td>5.9</td>\n",
              "      <td>8.1</td>\n",
              "      <td>0.73</td>\n",
              "    </tr>\n",
              "    <tr>\n",
              "      <th>57</th>\n",
              "      <td>4</td>\n",
              "      <td>lemon</td>\n",
              "      <td>unknown</td>\n",
              "      <td>152</td>\n",
              "      <td>6.5</td>\n",
              "      <td>8.5</td>\n",
              "      <td>0.72</td>\n",
              "    </tr>\n",
              "    <tr>\n",
              "      <th>58</th>\n",
              "      <td>4</td>\n",
              "      <td>lemon</td>\n",
              "      <td>unknown</td>\n",
              "      <td>118</td>\n",
              "      <td>6.1</td>\n",
              "      <td>8.1</td>\n",
              "      <td>0.70</td>\n",
              "    </tr>\n",
              "  </tbody>\n",
              "</table>\n",
              "</div>"
            ],
            "text/plain": [
              "    fruit_label fruit_name     fruit_subtype  mass  width  height  color_score\n",
              "0             1      apple      granny_smith   192    8.4     7.3         0.55\n",
              "1             1      apple      granny_smith   180    8.0     6.8         0.59\n",
              "2             1      apple      granny_smith   176    7.4     7.2         0.60\n",
              "3             2   mandarin          mandarin    86    6.2     4.7         0.80\n",
              "4             2   mandarin          mandarin    84    6.0     4.6         0.79\n",
              "5             2   mandarin          mandarin    80    5.8     4.3         0.77\n",
              "6             2   mandarin          mandarin    80    5.9     4.3         0.81\n",
              "7             2   mandarin          mandarin    76    5.8     4.0         0.81\n",
              "8             1      apple          braeburn   178    7.1     7.8         0.92\n",
              "9             1      apple          braeburn   172    7.4     7.0         0.89\n",
              "10            1      apple          braeburn   166    6.9     7.3         0.93\n",
              "11            1      apple          braeburn   172    7.1     7.6         0.92\n",
              "12            1      apple          braeburn   154    7.0     7.1         0.88\n",
              "13            1      apple  golden_delicious   164    7.3     7.7         0.70\n",
              "14            1      apple  golden_delicious   152    7.6     7.3         0.69\n",
              "15            1      apple  golden_delicious   156    7.7     7.1         0.69\n",
              "16            1      apple  golden_delicious   156    7.6     7.5         0.67\n",
              "17            1      apple  golden_delicious   168    7.5     7.6         0.73\n",
              "18            1      apple       cripps_pink   162    7.5     7.1         0.83\n",
              "19            1      apple       cripps_pink   162    7.4     7.2         0.85\n",
              "20            1      apple       cripps_pink   160    7.5     7.5         0.86\n",
              "21            1      apple       cripps_pink   156    7.4     7.4         0.84\n",
              "22            1      apple       cripps_pink   140    7.3     7.1         0.87\n",
              "23            1      apple       cripps_pink   170    7.6     7.9         0.88\n",
              "24            3     orange     spanish_jumbo   342    9.0     9.4         0.75\n",
              "25            3     orange     spanish_jumbo   356    9.2     9.2         0.75\n",
              "26            3     orange     spanish_jumbo   362    9.6     9.2         0.74\n",
              "27            3     orange  selected_seconds   204    7.5     9.2         0.77\n",
              "28            3     orange  selected_seconds   140    6.7     7.1         0.72\n",
              "29            3     orange  selected_seconds   160    7.0     7.4         0.81\n",
              "30            3     orange  selected_seconds   158    7.1     7.5         0.79\n",
              "31            3     orange  selected_seconds   210    7.8     8.0         0.82\n",
              "32            3     orange  selected_seconds   164    7.2     7.0         0.80\n",
              "33            3     orange      turkey_navel   190    7.5     8.1         0.74\n",
              "34            3     orange      turkey_navel   142    7.6     7.8         0.75\n",
              "35            3     orange      turkey_navel   150    7.1     7.9         0.75\n",
              "36            3     orange      turkey_navel   160    7.1     7.6         0.76\n",
              "37            3     orange      turkey_navel   154    7.3     7.3         0.79\n",
              "38            3     orange      turkey_navel   158    7.2     7.8         0.77\n",
              "39            3     orange      turkey_navel   144    6.8     7.4         0.75\n",
              "40            3     orange      turkey_navel   154    7.1     7.5         0.78\n",
              "41            3     orange      turkey_navel   180    7.6     8.2         0.79\n",
              "42            3     orange      turkey_navel   154    7.2     7.2         0.82\n",
              "43            4      lemon    spanish_belsan   194    7.2    10.3         0.70\n",
              "44            4      lemon    spanish_belsan   200    7.3    10.5         0.72\n",
              "45            4      lemon    spanish_belsan   186    7.2     9.2         0.72\n",
              "46            4      lemon    spanish_belsan   216    7.3    10.2         0.71\n",
              "47            4      lemon    spanish_belsan   196    7.3     9.7         0.72\n",
              "48            4      lemon    spanish_belsan   174    7.3    10.1         0.72\n",
              "49            4      lemon           unknown   132    5.8     8.7         0.73\n",
              "50            4      lemon           unknown   130    6.0     8.2         0.71\n",
              "51            4      lemon           unknown   116    6.0     7.5         0.72\n",
              "52            4      lemon           unknown   118    5.9     8.0         0.72\n",
              "53            4      lemon           unknown   120    6.0     8.4         0.74\n",
              "54            4      lemon           unknown   116    6.1     8.5         0.71\n",
              "55            4      lemon           unknown   116    6.3     7.7         0.72\n",
              "56            4      lemon           unknown   116    5.9     8.1         0.73\n",
              "57            4      lemon           unknown   152    6.5     8.5         0.72\n",
              "58            4      lemon           unknown   118    6.1     8.1         0.70"
            ]
          },
          "metadata": {
            "tags": []
          },
          "execution_count": 18
        }
      ]
    },
    {
      "cell_type": "markdown",
      "metadata": {
        "id": "gPqUrZ62kvrq"
      },
      "source": [
        "O primeiro colchete é o índice da variavel df e o segundo é a lista.\n",
        "X pode ser maiúsculo uma vez que representa a matriz e matrizes são representadas por letra maíscula. Y pode ser minusculo por ser um vetor."
      ]
    },
    {
      "cell_type": "code",
      "metadata": {
        "id": "54r3ioibhPQt"
      },
      "source": [
        "x = df[[\"mass\",\"height\", \"width\", \"color_score\"]].to_numpy() # separando atributos\n",
        "y = df[[\"fruit_label\"]].to_numpy() # separando rótulos"
      ],
      "execution_count": 19,
      "outputs": []
    },
    {
      "cell_type": "code",
      "metadata": {
        "id": "DFVcaVlkil96"
      },
      "source": [
        "# dividir treino e teste\n",
        "\n",
        "from sklearn.model_selection import train_test_split"
      ],
      "execution_count": 20,
      "outputs": []
    },
    {
      "cell_type": "markdown",
      "metadata": {
        "id": "HO5Vq8ALlR86"
      },
      "source": [
        "Se remover o test_size=0.2 ele divide automaticamente por 25% para teste e 75% para treino.\n",
        "\n",
        "\n",
        "x_train, x_test, y_train, y_test = train_test_split(x, y, test_size=0.2)"
      ]
    },
    {
      "cell_type": "code",
      "metadata": {
        "id": "pXViAbkJjfwG"
      },
      "source": [
        "x_train, x_test, y_train, y_test = train_test_split(x, y)"
      ],
      "execution_count": 21,
      "outputs": []
    },
    {
      "cell_type": "markdown",
      "metadata": {
        "id": "Txp-x21-moMO"
      },
      "source": [
        "###**Treinando o modelo com knn.  **\n",
        "Usa `nome_variavel.fit(x_train, y_train)`"
      ]
    },
    {
      "cell_type": "code",
      "metadata": {
        "colab": {
          "base_uri": "https://localhost:8080/"
        },
        "id": "NAynRrhQlxAz",
        "outputId": "7a756740-6a5a-47f1-ad69-52991c291ca0"
      },
      "source": [
        "knn.fit(x_train, y_train)"
      ],
      "execution_count": 22,
      "outputs": [
        {
          "output_type": "stream",
          "text": [
            "/usr/local/lib/python3.7/dist-packages/ipykernel_launcher.py:1: DataConversionWarning: A column-vector y was passed when a 1d array was expected. Please change the shape of y to (n_samples, ), for example using ravel().\n",
            "  \"\"\"Entry point for launching an IPython kernel.\n"
          ],
          "name": "stderr"
        },
        {
          "output_type": "execute_result",
          "data": {
            "text/plain": [
              "KNeighborsClassifier(algorithm='auto', leaf_size=30, metric='minkowski',\n",
              "                     metric_params=None, n_jobs=None, n_neighbors=3, p=2,\n",
              "                     weights='uniform')"
            ]
          },
          "metadata": {
            "tags": []
          },
          "execution_count": 22
        }
      ]
    },
    {
      "cell_type": "markdown",
      "metadata": {
        "id": "W0f69SQMy5nB"
      },
      "source": [
        "avaliando o modelo"
      ]
    },
    {
      "cell_type": "code",
      "metadata": {
        "id": "C8j0c-L5ngLC",
        "colab": {
          "base_uri": "https://localhost:8080/"
        },
        "outputId": "505520e4-3849-45b3-e134-bc7a0b912e72"
      },
      "source": [
        "knn.score(x_test, y_test)"
      ],
      "execution_count": 23,
      "outputs": [
        {
          "output_type": "execute_result",
          "data": {
            "text/plain": [
              "0.8"
            ]
          },
          "metadata": {
            "tags": []
          },
          "execution_count": 23
        }
      ]
    },
    {
      "cell_type": "markdown",
      "metadata": {
        "id": "PDckvCg_gFb2"
      },
      "source": [
        "O desempenho ruim do knn (0.8 acima) é devido aos atributos ou suas colunas não estejam na mesma escala.  \n",
        "Para resolver, utilizo o pré-processamento com Min e Max para melhorar o resultado."
      ]
    },
    {
      "cell_type": "code",
      "metadata": {
        "id": "ThNP5p7HzEWd"
      },
      "source": [
        "from sklearn.preprocessing import MinMaxScaler"
      ],
      "execution_count": 25,
      "outputs": []
    },
    {
      "cell_type": "code",
      "metadata": {
        "id": "a6Xj4R3GgDAI"
      },
      "source": [
        "# armazeno em uma variável\n",
        "mm = MinMaxScaler()"
      ],
      "execution_count": 26,
      "outputs": []
    },
    {
      "cell_type": "code",
      "metadata": {
        "id": "D1R-l4x2gpvx"
      },
      "source": [
        "#transformação de escala utilizando os dados do treino\n",
        "# este comando pega os dados de treino e transforma entre 0 e 1 e eu mantenho dentro da mesma variável x_train\n",
        "x_train = mm.fit_transform(x_train)"
      ],
      "execution_count": 28,
      "outputs": []
    },
    {
      "cell_type": "code",
      "metadata": {
        "colab": {
          "base_uri": "https://localhost:8080/"
        },
        "id": "LAHEMzRCgsnL",
        "outputId": "eb5158a9-0b4e-43e5-bb1e-337265cb9278"
      },
      "source": [
        "x_train"
      ],
      "execution_count": 30,
      "outputs": [
        {
          "output_type": "execute_result",
          "data": {
            "text/plain": [
              "array([[0.        , 0.        , 0.        , 0.7027027 ],\n",
              "       [0.15384615, 0.67692308, 0.05263158, 0.51351351],\n",
              "       [0.30769231, 0.46153846, 0.36842105, 0.67567568],\n",
              "       [0.27272727, 0.49230769, 0.36842105, 0.72972973],\n",
              "       [1.        , 0.8       , 1.        , 0.51351351],\n",
              "       [0.26573427, 0.69230769, 0.18421053, 0.45945946],\n",
              "       [0.36363636, 0.64615385, 0.47368421, 0.64864865],\n",
              "       [0.41258741, 0.96923077, 0.36842105, 0.40540541],\n",
              "       [0.41958042, 0.87692308, 0.39473684, 0.45945946],\n",
              "       [0.93006993, 0.83076923, 0.84210526, 0.54054054],\n",
              "       [0.33566434, 0.46153846, 0.42105263, 0.91891892],\n",
              "       [0.01398601, 0.04615385, 0.        , 0.59459459],\n",
              "       [0.34965035, 0.49230769, 0.42105263, 0.13513514],\n",
              "       [0.3006993 , 0.49230769, 0.42105263, 0.81081081],\n",
              "       [0.44755245, 0.8       , 0.44736842, 0.59459459],\n",
              "       [0.29370629, 0.52307692, 0.31578947, 0.7027027 ],\n",
              "       [0.22377622, 0.47692308, 0.23684211, 0.45945946],\n",
              "       [0.3006993 , 0.47692308, 0.44736842, 0.75675676],\n",
              "       [0.32867133, 0.6       , 0.47368421, 0.89189189],\n",
              "       [0.30769231, 0.56923077, 0.39473684, 0.40540541],\n",
              "       [0.14685315, 0.63076923, 0.07894737, 0.40540541],\n",
              "       [0.29370629, 0.53846154, 0.44736842, 0.83783784],\n",
              "       [0.34265734, 0.93846154, 0.39473684, 0.45945946],\n",
              "       [0.3986014 , 0.63076923, 0.44736842, 0.51351351],\n",
              "       [0.27972028, 0.52307692, 0.42105263, 0.78378378],\n",
              "       [0.13986014, 0.56923077, 0.13157895, 0.45945946],\n",
              "       [0.38461538, 0.8       , 0.36842105, 0.45945946],\n",
              "       [0.32167832, 0.55384615, 0.44736842, 0.48648649],\n",
              "       [0.02797203, 0.09230769, 0.05263158, 0.64864865],\n",
              "       [0.27972028, 0.53846154, 0.47368421, 0.32432432],\n",
              "       [0.23076923, 0.58461538, 0.47368421, 0.54054054],\n",
              "       [0.18881119, 0.64615385, 0.05263158, 0.43243243],\n",
              "       [0.43356643, 1.        , 0.39473684, 0.45945946],\n",
              "       [0.40559441, 0.50769231, 0.68421053, 0.        ],\n",
              "       [0.13986014, 0.69230769, 0.07894737, 0.43243243],\n",
              "       [0.48951049, 0.95384615, 0.39473684, 0.43243243],\n",
              "       [0.27272727, 0.50769231, 0.39473684, 0.64864865],\n",
              "       [0.1958042 , 0.72307692, 0.        , 0.48648649],\n",
              "       [0.35664336, 0.58461538, 0.34210526, 1.        ],\n",
              "       [0.14685315, 0.61538462, 0.02631579, 0.45945946],\n",
              "       [0.22377622, 0.47692308, 0.39473684, 0.86486486],\n",
              "       [0.13986014, 0.53846154, 0.05263158, 0.45945946],\n",
              "       [0.26573427, 0.50769231, 0.47368421, 0.37837838],\n",
              "       [0.28671329, 0.53846154, 0.34210526, 0.64864865]])"
            ]
          },
          "metadata": {
            "tags": []
          },
          "execution_count": 30
        }
      ]
    },
    {
      "cell_type": "code",
      "metadata": {
        "id": "S3dawk9qhIGS"
      },
      "source": [
        "# transformando teste.\n",
        "# a primeira vez fiz sem o fit e deu numeros negativos \n",
        "x_test = mm.fit_transform(x_test)"
      ],
      "execution_count": 43,
      "outputs": []
    },
    {
      "cell_type": "code",
      "metadata": {
        "colab": {
          "base_uri": "https://localhost:8080/"
        },
        "id": "xpZsUFeIiDys",
        "outputId": "2fe04bba-8242-4232-a3fc-adec77a01967"
      },
      "source": [
        "x_test"
      ],
      "execution_count": 44,
      "outputs": [
        {
          "output_type": "execute_result",
          "data": {
            "text/plain": [
              "array([[0.        , 0.        , 0.        , 0.64705882],\n",
              "       [0.02173913, 0.08163265, 0.09090909, 0.61764706],\n",
              "       [0.28985507, 0.67346939, 0.36363636, 0.5       ],\n",
              "       [0.47101449, 0.75510204, 0.57575758, 0.67647059],\n",
              "       [0.25362319, 0.73469388, 0.36363636, 0.47058824],\n",
              "       [0.3115942 , 0.6122449 , 0.3030303 , 1.        ],\n",
              "       [0.23188406, 0.63265306, 0.27272727, 0.47058824],\n",
              "       [0.26811594, 0.57142857, 0.33333333, 0.85294118],\n",
              "       [1.        , 1.        , 1.        , 0.47058824],\n",
              "       [0.36231884, 0.51020408, 0.63636364, 0.        ],\n",
              "       [0.13043478, 0.7755102 , 0.        , 0.41176471],\n",
              "       [0.26811594, 0.65306122, 0.36363636, 0.55882353],\n",
              "       [0.33333333, 0.67346939, 0.36363636, 0.97058824],\n",
              "       [0.2826087 , 0.71428571, 0.39393939, 0.52941176],\n",
              "       [0.27536232, 0.57142857, 0.54545455, 0.29411765]])"
            ]
          },
          "metadata": {
            "tags": []
          },
          "execution_count": 44
        }
      ]
    },
    {
      "cell_type": "code",
      "metadata": {
        "id": "GjVuuj_diWO8"
      },
      "source": [
        "# classificando o nr de vizinhos\n",
        "knn = KNeighborsClassifier(n_neighbors=3)"
      ],
      "execution_count": 45,
      "outputs": []
    },
    {
      "cell_type": "code",
      "metadata": {
        "colab": {
          "base_uri": "https://localhost:8080/"
        },
        "id": "lPEyMB2hioY8",
        "outputId": "710ed9ac-43d0-4593-a711-78455b40b0b1"
      },
      "source": [
        "# retreino do knn\n",
        "knn.fit(x_train,y_train)"
      ],
      "execution_count": 46,
      "outputs": [
        {
          "output_type": "stream",
          "text": [
            "/usr/local/lib/python3.7/dist-packages/ipykernel_launcher.py:2: DataConversionWarning: A column-vector y was passed when a 1d array was expected. Please change the shape of y to (n_samples, ), for example using ravel().\n",
            "  \n"
          ],
          "name": "stderr"
        },
        {
          "output_type": "execute_result",
          "data": {
            "text/plain": [
              "KNeighborsClassifier(algorithm='auto', leaf_size=30, metric='minkowski',\n",
              "                     metric_params=None, n_jobs=None, n_neighbors=3, p=2,\n",
              "                     weights='uniform')"
            ]
          },
          "metadata": {
            "tags": []
          },
          "execution_count": 46
        }
      ]
    },
    {
      "cell_type": "code",
      "metadata": {
        "colab": {
          "base_uri": "https://localhost:8080/"
        },
        "id": "xgK7vefwitHr",
        "outputId": "0f6db82a-98cb-4dc4-82ad-79ed59f6bac8"
      },
      "source": [
        "knn.score(x_test,y_test)"
      ],
      "execution_count": 47,
      "outputs": [
        {
          "output_type": "execute_result",
          "data": {
            "text/plain": [
              "0.8"
            ]
          },
          "metadata": {
            "tags": []
          },
          "execution_count": 47
        }
      ]
    },
    {
      "cell_type": "code",
      "metadata": {
        "colab": {
          "base_uri": "https://localhost:8080/"
        },
        "id": "Z3MAHXHGiwUy",
        "outputId": "c6743ce4-5e1d-477a-e18d-b694b4442f18"
      },
      "source": [
        "# retorna a classe que eles devem estar de acordo com o KNN p comparar aos rótulos de teste\n",
        "knn.predict(x_test)"
      ],
      "execution_count": 48,
      "outputs": [
        {
          "output_type": "execute_result",
          "data": {
            "text/plain": [
              "array([2, 2, 1, 3, 4, 1, 1, 1, 3, 1, 4, 3, 1, 3, 1])"
            ]
          },
          "metadata": {
            "tags": []
          },
          "execution_count": 48
        }
      ]
    },
    {
      "cell_type": "code",
      "metadata": {
        "colab": {
          "base_uri": "https://localhost:8080/"
        },
        "id": "8x9I7BgCjH86",
        "outputId": "9c069691-3a9a-4fb5-b0ac-7b2cbdd08f0f"
      },
      "source": [
        "y_test"
      ],
      "execution_count": 49,
      "outputs": [
        {
          "output_type": "execute_result",
          "data": {
            "text/plain": [
              "array([[2],\n",
              "       [2],\n",
              "       [3],\n",
              "       [3],\n",
              "       [3],\n",
              "       [1],\n",
              "       [3],\n",
              "       [1],\n",
              "       [3],\n",
              "       [1],\n",
              "       [4],\n",
              "       [3],\n",
              "       [1],\n",
              "       [3],\n",
              "       [1]])"
            ]
          },
          "metadata": {
            "tags": []
          },
          "execution_count": 49
        }
      ]
    },
    {
      "cell_type": "markdown",
      "metadata": {
        "id": "MG6eAHWFlCQo"
      },
      "source": [
        "#**KNN - Regressão**\n",
        "Diferente da classificação que pegou os vizinhos mais próximos para comparar. A regressão efetua uma média do rótulo dos vizinhos mais próximos.\n",
        "O processo de cálculo da distância é o mesmo, porém na hora aplicar o rotulo no elemento iremos aplicar apenas a média dos rótulos dos vizinhos mais proximos."
      ]
    },
    {
      "cell_type": "code",
      "metadata": {
        "id": "-J49uIY-kqwZ"
      },
      "source": [
        "from sklearn.neighbors import KNeighborsRegressor"
      ],
      "execution_count": 50,
      "outputs": []
    },
    {
      "cell_type": "code",
      "metadata": {
        "id": "BMaGjsphnJ5i"
      },
      "source": [
        "knn_r = KNeighborsRegressor"
      ],
      "execution_count": 52,
      "outputs": []
    },
    {
      "cell_type": "code",
      "metadata": {
        "id": "UWZu2HOvnU2H"
      },
      "source": [
        "from sklearn.datasets import load_boston"
      ],
      "execution_count": 54,
      "outputs": []
    },
    {
      "cell_type": "code",
      "metadata": {
        "id": "-SwY3PFYnxkE"
      },
      "source": [
        "data = load_boston()"
      ],
      "execution_count": 55,
      "outputs": []
    },
    {
      "cell_type": "code",
      "metadata": {
        "id": "NeeiZB9Bn4FB"
      },
      "source": [
        "# importar os dados e separar em atributos e rótulos.\n",
        "X, y = load_boston(return_X_y=True)"
      ],
      "execution_count": 56,
      "outputs": []
    },
    {
      "cell_type": "code",
      "metadata": {
        "colab": {
          "base_uri": "https://localhost:8080/"
        },
        "id": "goeq0d0VoJAg",
        "outputId": "b64a3379-9bbb-4fad-b7bd-f5e2a5564523"
      },
      "source": [
        "# 506 linhas e 13 colunas\n",
        "X.shape"
      ],
      "execution_count": 57,
      "outputs": [
        {
          "output_type": "execute_result",
          "data": {
            "text/plain": [
              "(506, 13)"
            ]
          },
          "metadata": {
            "tags": []
          },
          "execution_count": 57
        }
      ]
    },
    {
      "cell_type": "code",
      "metadata": {
        "colab": {
          "base_uri": "https://localhost:8080/"
        },
        "id": "b1mt_VjcoQQy",
        "outputId": "08f2c28d-73ed-424e-b52f-e0cf587dce7b"
      },
      "source": [
        "y.shape"
      ],
      "execution_count": 58,
      "outputs": [
        {
          "output_type": "execute_result",
          "data": {
            "text/plain": [
              "(506,)"
            ]
          },
          "metadata": {
            "tags": []
          },
          "execution_count": 58
        }
      ]
    },
    {
      "cell_type": "code",
      "metadata": {
        "colab": {
          "base_uri": "https://localhost:8080/"
        },
        "id": "01ixqYL1oWqo",
        "outputId": "5a47e816-1430-4da1-e33d-95c77caa8e7f"
      },
      "source": [
        "# para entender o dataset \n",
        "print(load_boston()['DESCR'])"
      ],
      "execution_count": 59,
      "outputs": [
        {
          "output_type": "stream",
          "text": [
            ".. _boston_dataset:\n",
            "\n",
            "Boston house prices dataset\n",
            "---------------------------\n",
            "\n",
            "**Data Set Characteristics:**  \n",
            "\n",
            "    :Number of Instances: 506 \n",
            "\n",
            "    :Number of Attributes: 13 numeric/categorical predictive. Median Value (attribute 14) is usually the target.\n",
            "\n",
            "    :Attribute Information (in order):\n",
            "        - CRIM     per capita crime rate by town\n",
            "        - ZN       proportion of residential land zoned for lots over 25,000 sq.ft.\n",
            "        - INDUS    proportion of non-retail business acres per town\n",
            "        - CHAS     Charles River dummy variable (= 1 if tract bounds river; 0 otherwise)\n",
            "        - NOX      nitric oxides concentration (parts per 10 million)\n",
            "        - RM       average number of rooms per dwelling\n",
            "        - AGE      proportion of owner-occupied units built prior to 1940\n",
            "        - DIS      weighted distances to five Boston employment centres\n",
            "        - RAD      index of accessibility to radial highways\n",
            "        - TAX      full-value property-tax rate per $10,000\n",
            "        - PTRATIO  pupil-teacher ratio by town\n",
            "        - B        1000(Bk - 0.63)^2 where Bk is the proportion of blacks by town\n",
            "        - LSTAT    % lower status of the population\n",
            "        - MEDV     Median value of owner-occupied homes in $1000's\n",
            "\n",
            "    :Missing Attribute Values: None\n",
            "\n",
            "    :Creator: Harrison, D. and Rubinfeld, D.L.\n",
            "\n",
            "This is a copy of UCI ML housing dataset.\n",
            "https://archive.ics.uci.edu/ml/machine-learning-databases/housing/\n",
            "\n",
            "\n",
            "This dataset was taken from the StatLib library which is maintained at Carnegie Mellon University.\n",
            "\n",
            "The Boston house-price data of Harrison, D. and Rubinfeld, D.L. 'Hedonic\n",
            "prices and the demand for clean air', J. Environ. Economics & Management,\n",
            "vol.5, 81-102, 1978.   Used in Belsley, Kuh & Welsch, 'Regression diagnostics\n",
            "...', Wiley, 1980.   N.B. Various transformations are used in the table on\n",
            "pages 244-261 of the latter.\n",
            "\n",
            "The Boston house-price data has been used in many machine learning papers that address regression\n",
            "problems.   \n",
            "     \n",
            ".. topic:: References\n",
            "\n",
            "   - Belsley, Kuh & Welsch, 'Regression diagnostics: Identifying Influential Data and Sources of Collinearity', Wiley, 1980. 244-261.\n",
            "   - Quinlan,R. (1993). Combining Instance-Based and Model-Based Learning. In Proceedings on the Tenth International Conference of Machine Learning, 236-243, University of Massachusetts, Amherst. Morgan Kaufmann.\n",
            "\n"
          ],
          "name": "stdout"
        }
      ]
    },
    {
      "cell_type": "code",
      "metadata": {
        "id": "VR5zHEQ_oz2G"
      },
      "source": [
        "# from sklearn.model_selection import train_test_split - não precisa importar novamente"
      ],
      "execution_count": 60,
      "outputs": []
    },
    {
      "cell_type": "code",
      "metadata": {
        "id": "DPUv6I87o9LU"
      },
      "source": [
        "X_train, X_test, y_train, y_test = train_test_split(X,y)"
      ],
      "execution_count": 61,
      "outputs": []
    },
    {
      "cell_type": "code",
      "metadata": {
        "id": "iznu3Twno9sd"
      },
      "source": [
        "knn_r.fit(X_train,y_train)"
      ],
      "execution_count": null,
      "outputs": []
    },
    {
      "cell_type": "code",
      "metadata": {
        "id": "RivmdGh8psm_"
      },
      "source": [
        "knn_r.score(X_test,y_test)"
      ],
      "execution_count": null,
      "outputs": []
    }
  ]
}