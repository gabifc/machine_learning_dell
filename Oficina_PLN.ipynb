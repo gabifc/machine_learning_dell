{
  "nbformat": 4,
  "nbformat_minor": 0,
  "metadata": {
    "kernelspec": {
      "display_name": "Python 3",
      "language": "python",
      "name": "python3"
    },
    "language_info": {
      "codemirror_mode": {
        "name": "ipython",
        "version": 3
      },
      "file_extension": ".py",
      "mimetype": "text/x-python",
      "name": "python",
      "nbconvert_exporter": "python",
      "pygments_lexer": "ipython3",
      "version": "3.7.7"
    },
    "colab": {
      "name": "Oficina_PLN.ipynb",
      "provenance": [],
      "include_colab_link": true
    }
  },
  "cells": [
    {
      "cell_type": "markdown",
      "metadata": {
        "id": "view-in-github",
        "colab_type": "text"
      },
      "source": [
        "<a href=\"https://colab.research.google.com/github/gabifc/machine_learning_dell/blob/main/Oficina_PLN.ipynb\" target=\"_parent\"><img src=\"https://colab.research.google.com/assets/colab-badge.svg\" alt=\"Open In Colab\"/></a>"
      ]
    },
    {
      "cell_type": "markdown",
      "metadata": {
        "id": "TWUEvjtFJu7q"
      },
      "source": [
        "# Oficina  \n",
        "\n",
        "**Aluna:** Gabrielle Fernandes de Campos  \n",
        "\n",
        "Agora que você conheceu um pouco sobre o Processamento da Linguagem Natural, área da computação que está relacionada com os sistemas que conseguem aprender a linguagem que falamos ou escrevemos, chegou o momento de colocar esse conhecimento em prática.\n",
        "\n",
        "Para que você possa exercitar os conceitos aprendidos, baixe o arquivo em formato .ipynb através do link “Oficina_PLN.ipynb” e carregue-o no ambiente do Jupyter notebook em seu computador. Em seguida importe o módulo nltk através do comando “import nltk”, e depois utilize os comandos “nltk.download('stopwords')” e “nltk.download('punkt')” para carregar os módulos necessários para esta oficina.\n",
        "\n",
        "Então aplique os conhecimentos que você adquiriu para identificar as stopwords de um texto, usando a biblioteca NLTK. Após isso, nesse mesmo texto, aplique o cálculo TF-IDF usando o módulo “TfidfVectorizer” para identificar os scores e os termos que mais ocorrem no texto. Para finalizar, exporte o arquivo do notebook com tudo que você fez e nos envie.\n",
        "\n",
        "Boa prática!"
      ]
    },
    {
      "cell_type": "markdown",
      "metadata": {
        "id": "Lp88zrriGLO8"
      },
      "source": [
        "### Bibliotecas necessárias"
      ]
    },
    {
      "cell_type": "code",
      "metadata": {
        "colab": {
          "base_uri": "https://localhost:8080/"
        },
        "id": "DDR-mk-CGLPB",
        "outputId": "c1a5cadc-14bf-4032-8774-16b68e6350fc"
      },
      "source": [
        "! pip install nltk"
      ],
      "execution_count": 1,
      "outputs": [
        {
          "output_type": "stream",
          "text": [
            "Requirement already satisfied: nltk in /usr/local/lib/python3.7/dist-packages (3.2.5)\n",
            "Requirement already satisfied: six in /usr/local/lib/python3.7/dist-packages (from nltk) (1.15.0)\n"
          ],
          "name": "stdout"
        }
      ]
    },
    {
      "cell_type": "code",
      "metadata": {
        "id": "mkJT8IA9GLPC"
      },
      "source": [
        "import nltk\n",
        "from sklearn.feature_extraction.text import TfidfVectorizer\n",
        "import pandas as pd"
      ],
      "execution_count": 2,
      "outputs": []
    },
    {
      "cell_type": "markdown",
      "metadata": {
        "id": "y7hAP30wGLPC"
      },
      "source": [
        "### Pacotes necessários"
      ]
    },
    {
      "cell_type": "code",
      "metadata": {
        "colab": {
          "base_uri": "https://localhost:8080/"
        },
        "id": "ZI1NLNaBGLPD",
        "outputId": "2ae8ff07-748b-44e3-8d89-3b51a67111dc"
      },
      "source": [
        "nltk.download('stopwords')\n",
        "nltk.download('punkt')"
      ],
      "execution_count": 3,
      "outputs": [
        {
          "output_type": "stream",
          "text": [
            "[nltk_data] Downloading package stopwords to /root/nltk_data...\n",
            "[nltk_data]   Unzipping corpora/stopwords.zip.\n",
            "[nltk_data] Downloading package punkt to /root/nltk_data...\n",
            "[nltk_data]   Unzipping tokenizers/punkt.zip.\n"
          ],
          "name": "stdout"
        },
        {
          "output_type": "execute_result",
          "data": {
            "text/plain": [
              "True"
            ]
          },
          "metadata": {
            "tags": []
          },
          "execution_count": 3
        }
      ]
    },
    {
      "cell_type": "markdown",
      "metadata": {
        "id": "AFCLtRg-GLPD"
      },
      "source": [
        "Use a variável texto a seguir para identificar as stop words\n",
        "e após isso aplique o cáculo do **TF-IDF** neste mesmo texto e observe os scores."
      ]
    },
    {
      "cell_type": "markdown",
      "metadata": {
        "id": "Jd3XpvGCGLPD"
      },
      "source": [
        "**OBS:** Para realizar essa tarefa utilize os módulos estudados na aula"
      ]
    },
    {
      "cell_type": "code",
      "metadata": {
        "id": "nuTgrpGNGLPD"
      },
      "source": [
        "texto = 'Um carro azul seguia rapidamente em uma rodovia, e ao passar por um buraco, o carro furou o pneu, e o motorista desceu do carro azul'"
      ],
      "execution_count": 4,
      "outputs": []
    },
    {
      "cell_type": "code",
      "metadata": {
        "id": "svBeQiXfGUnO"
      },
      "source": [
        "tf_idf = TfidfVectorizer()\n",
        "vetor = tf_idf.fit_transform([texto])\n"
      ],
      "execution_count": 5,
      "outputs": []
    },
    {
      "cell_type": "code",
      "metadata": {
        "id": "kV6n4FdnGiMj"
      },
      "source": [
        "vetor = vetor.todense()"
      ],
      "execution_count": 6,
      "outputs": []
    },
    {
      "cell_type": "code",
      "metadata": {
        "id": "1K-T8S30Gjqw"
      },
      "source": [
        "nomes = tf_idf.get_feature_names()"
      ],
      "execution_count": 7,
      "outputs": []
    },
    {
      "cell_type": "code",
      "metadata": {
        "colab": {
          "base_uri": "https://localhost:8080/"
        },
        "id": "Vo6hMrmYGpT6",
        "outputId": "7532199e-3b3f-4fae-dd48-67b52357e851"
      },
      "source": [
        "df = pd.DataFrame(vetor, columns=nomes)\n",
        "print(df)"
      ],
      "execution_count": 8,
      "outputs": [
        {
          "output_type": "stream",
          "text": [
            "         ao      azul    buraco  ...    seguia        um       uma\n",
            "0  0.179605  0.359211  0.179605  ...  0.179605  0.359211  0.179605\n",
            "\n",
            "[1 rows x 17 columns]\n"
          ],
          "name": "stdout"
        }
      ]
    },
    {
      "cell_type": "code",
      "metadata": {
        "colab": {
          "base_uri": "https://localhost:8080/",
          "height": 99
        },
        "id": "XCVQ90QfGtxp",
        "outputId": "b1eac3ef-593b-4882-ca8d-65f99b2edbc7"
      },
      "source": [
        "display(df)"
      ],
      "execution_count": 15,
      "outputs": [
        {
          "output_type": "display_data",
          "data": {
            "text/html": [
              "<div>\n",
              "<style scoped>\n",
              "    .dataframe tbody tr th:only-of-type {\n",
              "        vertical-align: middle;\n",
              "    }\n",
              "\n",
              "    .dataframe tbody tr th {\n",
              "        vertical-align: top;\n",
              "    }\n",
              "\n",
              "    .dataframe thead th {\n",
              "        text-align: right;\n",
              "    }\n",
              "</style>\n",
              "<table border=\"1\" class=\"dataframe\">\n",
              "  <thead>\n",
              "    <tr style=\"text-align: right;\">\n",
              "      <th></th>\n",
              "      <th>ao</th>\n",
              "      <th>azul</th>\n",
              "      <th>buraco</th>\n",
              "      <th>carro</th>\n",
              "      <th>desceu</th>\n",
              "      <th>do</th>\n",
              "      <th>em</th>\n",
              "      <th>furou</th>\n",
              "      <th>motorista</th>\n",
              "      <th>passar</th>\n",
              "      <th>pneu</th>\n",
              "      <th>por</th>\n",
              "      <th>rapidamente</th>\n",
              "      <th>rodovia</th>\n",
              "      <th>seguia</th>\n",
              "      <th>um</th>\n",
              "      <th>uma</th>\n",
              "    </tr>\n",
              "  </thead>\n",
              "  <tbody>\n",
              "    <tr>\n",
              "      <th>0</th>\n",
              "      <td>0.179605</td>\n",
              "      <td>0.359211</td>\n",
              "      <td>0.179605</td>\n",
              "      <td>0.538816</td>\n",
              "      <td>0.179605</td>\n",
              "      <td>0.179605</td>\n",
              "      <td>0.179605</td>\n",
              "      <td>0.179605</td>\n",
              "      <td>0.179605</td>\n",
              "      <td>0.179605</td>\n",
              "      <td>0.179605</td>\n",
              "      <td>0.179605</td>\n",
              "      <td>0.179605</td>\n",
              "      <td>0.179605</td>\n",
              "      <td>0.179605</td>\n",
              "      <td>0.359211</td>\n",
              "      <td>0.179605</td>\n",
              "    </tr>\n",
              "  </tbody>\n",
              "</table>\n",
              "</div>"
            ],
            "text/plain": [
              "         ao      azul    buraco  ...    seguia        um       uma\n",
              "0  0.179605  0.359211  0.179605  ...  0.179605  0.359211  0.179605\n",
              "\n",
              "[1 rows x 17 columns]"
            ]
          },
          "metadata": {
            "tags": []
          }
        }
      ]
    }
  ]
}