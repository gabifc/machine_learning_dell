{
  "nbformat": 4,
  "nbformat_minor": 0,
  "metadata": {
    "colab": {
      "name": "regressao_ML.ipynb",
      "provenance": [],
      "toc_visible": true,
      "authorship_tag": "ABX9TyPrgZNqYgGRsl7m3UofJEg0",
      "include_colab_link": true
    },
    "kernelspec": {
      "name": "python3",
      "display_name": "Python 3"
    }
  },
  "cells": [
    {
      "cell_type": "markdown",
      "metadata": {
        "id": "view-in-github",
        "colab_type": "text"
      },
      "source": [
        "<a href=\"https://colab.research.google.com/github/gabifc/machine_learning_dell/blob/main/regressao_ML.ipynb\" target=\"_parent\"><img src=\"https://colab.research.google.com/assets/colab-badge.svg\" alt=\"Open In Colab\"/></a>"
      ]
    },
    {
      "cell_type": "code",
      "metadata": {
        "id": "heMtDfZDcmhW"
      },
      "source": [
        "# importar bibliotecas"
      ],
      "execution_count": 4,
      "outputs": []
    },
    {
      "cell_type": "code",
      "metadata": {
        "id": "XL8h5Nk-cQqy"
      },
      "source": [
        "import numpy as np"
      ],
      "execution_count": 1,
      "outputs": []
    },
    {
      "cell_type": "code",
      "metadata": {
        "id": "dnamOnCdcfIm"
      },
      "source": [
        "import pandas as pd"
      ],
      "execution_count": 2,
      "outputs": []
    },
    {
      "cell_type": "code",
      "metadata": {
        "id": "nJWyW6jHchpA"
      },
      "source": [
        "import matplotlib.pyplot as plt"
      ],
      "execution_count": 5,
      "outputs": []
    },
    {
      "cell_type": "code",
      "metadata": {
        "id": "q9_ReZazczRP"
      },
      "source": [
        "# dados registrados dos vendedores de sorvete"
      ],
      "execution_count": 6,
      "outputs": []
    },
    {
      "cell_type": "code",
      "metadata": {
        "id": "R36do0zPc3pO"
      },
      "source": [
        "temperatura = np.array([30, 25, 36, 18, 25, 29, 30, 33, 37, 31, 26, 37, 29, 26, 30, 31, 34, 38])"
      ],
      "execution_count": 7,
      "outputs": []
    },
    {
      "cell_type": "code",
      "metadata": {
        "id": "k7wvOvxOdIuj"
      },
      "source": [
        "numero_sorvetes = np.array([20, 12, 50, 10, 18, 25, 26, 32, 48, 22, 16, 52, 24, 20, 28, 29, 35, 40])"
      ],
      "execution_count": 8,
      "outputs": []
    },
    {
      "cell_type": "code",
      "metadata": {
        "id": "3fM7_XdVdJay"
      },
      "source": [
        "# criar o dataframe passando em um dicionário as variáveis temperatura e numero de sorvetes como chaves dos dicionários\n",
        "# abaixo é chave : variável\n",
        "df = pd.DataFrame({'temperatura': temperatura, 'numero_sorvetes': numero_sorvetes})"
      ],
      "execution_count": 9,
      "outputs": []
    },
    {
      "cell_type": "code",
      "metadata": {
        "colab": {
          "base_uri": "https://localhost:8080/",
          "height": 202
        },
        "id": "EOSPwIwgd4ju",
        "outputId": "ea1b552d-9241-4da3-8a1c-b40acd1bf6bb"
      },
      "source": [
        "df.head()"
      ],
      "execution_count": 10,
      "outputs": [
        {
          "output_type": "execute_result",
          "data": {
            "text/html": [
              "<div>\n",
              "<style scoped>\n",
              "    .dataframe tbody tr th:only-of-type {\n",
              "        vertical-align: middle;\n",
              "    }\n",
              "\n",
              "    .dataframe tbody tr th {\n",
              "        vertical-align: top;\n",
              "    }\n",
              "\n",
              "    .dataframe thead th {\n",
              "        text-align: right;\n",
              "    }\n",
              "</style>\n",
              "<table border=\"1\" class=\"dataframe\">\n",
              "  <thead>\n",
              "    <tr style=\"text-align: right;\">\n",
              "      <th></th>\n",
              "      <th>temperatura</th>\n",
              "      <th>numero_sorvetes</th>\n",
              "    </tr>\n",
              "  </thead>\n",
              "  <tbody>\n",
              "    <tr>\n",
              "      <th>0</th>\n",
              "      <td>30</td>\n",
              "      <td>20</td>\n",
              "    </tr>\n",
              "    <tr>\n",
              "      <th>1</th>\n",
              "      <td>25</td>\n",
              "      <td>12</td>\n",
              "    </tr>\n",
              "    <tr>\n",
              "      <th>2</th>\n",
              "      <td>36</td>\n",
              "      <td>50</td>\n",
              "    </tr>\n",
              "    <tr>\n",
              "      <th>3</th>\n",
              "      <td>18</td>\n",
              "      <td>10</td>\n",
              "    </tr>\n",
              "    <tr>\n",
              "      <th>4</th>\n",
              "      <td>25</td>\n",
              "      <td>18</td>\n",
              "    </tr>\n",
              "  </tbody>\n",
              "</table>\n",
              "</div>"
            ],
            "text/plain": [
              "   temperatura  numero_sorvetes\n",
              "0           30               20\n",
              "1           25               12\n",
              "2           36               50\n",
              "3           18               10\n",
              "4           25               18"
            ]
          },
          "metadata": {
            "tags": []
          },
          "execution_count": 10
        }
      ]
    },
    {
      "cell_type": "code",
      "metadata": {
        "colab": {
          "base_uri": "https://localhost:8080/",
          "height": 279
        },
        "id": "zQiPedzse9Ub",
        "outputId": "d96e7b32-4531-4e50-fc21-742872ca1617"
      },
      "source": [
        "# Gerando o gráfico\n",
        "# primeiro parametro o dataframe temperatura, o segundo o dataframe com os dados do numero de sorvetes e o terceiro é o estilo do plot, neste caso *\n",
        "plt.plot(df['temperatura'], df['numero_sorvetes'], '*')\n",
        "# título do eixo x\n",
        "plt.xlabel('Temperatura')\n",
        "# título do eixo y\n",
        "plt.ylabel('Sorvetes')\n",
        "plt.show()"
      ],
      "execution_count": 12,
      "outputs": [
        {
          "output_type": "display_data",
          "data": {
            "image/png": "[encoded data removed]",
            "text/plain": [
              "<Figure size 432x288 with 1 Axes>"
            ]
          },
          "metadata": {
            "tags": [],
            "needs_background": "light"
          }
        }
      ]
    },
    {
      "cell_type": "markdown",
      "metadata": {
        "id": "BIhts77ogJGa"
      },
      "source": [
        "# **Construindo o modelo de regressão**\n",
        "\n",
        "# Separação de varíavel independente e variável dependente.\n",
        "\n",
        "O **método to_nump** converte os valores do dataframe para float."
      ]
    },
    {
      "cell_type": "code",
      "metadata": {
        "id": "zA3YeTvXfSrQ"
      },
      "source": [
        "# atribuindo a variável independente X com os dados da temperatura\n",
        "\n",
        "x = df['temperatura'].to_numpy()"
      ],
      "execution_count": 17,
      "outputs": []
    },
    {
      "cell_type": "code",
      "metadata": {
        "id": "EixAuzSNgsyo"
      },
      "source": [
        "# atribuindo a variável independente Y com os dados da temperatura\n",
        "y = df['numero_sorvetes'].to_numpy()"
      ],
      "execution_count": 18,
      "outputs": []
    },
    {
      "cell_type": "markdown",
      "metadata": {
        "id": "qchlPudzinaJ"
      },
      "source": [
        "**separando os dados** para treinar (80%) e testar (20%).\n",
        "\n",
        "Uso a **biblioteca sklearn** para fazer a separação automaticamente."
      ]
    },
    {
      "cell_type": "code",
      "metadata": {
        "id": "NUT8bZLHhE4y"
      },
      "source": [
        "from sklearn.model_selection import train_test_split\n"
      ],
      "execution_count": 15,
      "outputs": []
    },
    {
      "cell_type": "code",
      "metadata": {
        "id": "Klc0xEGejbhZ"
      },
      "source": [
        "# a classe train_test_split recebe as variáveis x e y como entrada e retorna 4 variáveis.\n",
        "# test_size defino 20% para teste.\n",
        "\n",
        "x_treino, x_teste, y_treino, y_teste = train_test_split(x, y, test_size=0.2)"
      ],
      "execution_count": 19,
      "outputs": []
    },
    {
      "cell_type": "markdown",
      "metadata": {
        "id": "zPjzHQ2fkgXJ"
      },
      "source": [
        "# Treinando o modelo - Regressão Linear\n",
        "\n",
        "módulo sklearn LinearRegression\n",
        "\n",
        "O **método reshape** serve para colocar os dados na forma de um vetor com n linhas e 1 coluna"
      ]
    },
    {
      "cell_type": "code",
      "metadata": {
        "id": "gFfuxuHvlrnS"
      },
      "source": [
        "# módulo sklearn LinearRegression\n",
        "from sklearn.linear_model import LinearRegression\n"
      ],
      "execution_count": 20,
      "outputs": []
    },
    {
      "cell_type": "code",
      "metadata": {
        "id": "ZtK248xSluXo"
      },
      "source": [
        "# variável modelo é criada ao instanciar o modelo de regressão - define um modelo de regressão\n",
        "modelo = LinearRegression()\n"
      ],
      "execution_count": 21,
      "outputs": []
    },
    {
      "cell_type": "code",
      "metadata": {
        "colab": {
          "base_uri": "https://localhost:8080/"
        },
        "id": "zV9xmYg2kRS4",
        "outputId": "0c219798-437b-4583-f8d4-20d95a6ccb2c"
      },
      "source": [
        "# treina o modelo com os dados de treino\n",
        "# uso as variáveis x_treino e y_treino como entrada\n",
        "# reshape serve para colocar os dados na forma de um vetor com n linhas e 1 coluna\n",
        "modelo.fit(x_treino.reshape(-1, 1), y_treino.reshape(-1, 1))"
      ],
      "execution_count": 22,
      "outputs": [
        {
          "output_type": "execute_result",
          "data": {
            "text/plain": [
              "LinearRegression(copy_X=True, fit_intercept=True, n_jobs=None, normalize=False)"
            ]
          },
          "metadata": {
            "tags": []
          },
          "execution_count": 22
        }
      ]
    },
    {
      "cell_type": "markdown",
      "metadata": {
        "id": "KdCRfgQmmyaJ"
      },
      "source": [
        "# Realizando a previsão do número de sorvetes a serem vendidos.\n",
        "\n",
        "**Método predict** da variável modelo"
      ]
    },
    {
      "cell_type": "code",
      "metadata": {
        "id": "D1RiulYAmvaV"
      },
      "source": [
        "# y_previsto contém a previsão dos preços do nosso modelo\n",
        "# passo para o método predict a variável x_teste que são os dados de temperatura que não foram utilizados na etapa de treino.\n",
        "\n",
        "y_previsto = modelo.predict(x_teste.reshape(-1,1))"
      ],
      "execution_count": 23,
      "outputs": []
    },
    {
      "cell_type": "code",
      "metadata": {
        "colab": {
          "base_uri": "https://localhost:8080/",
          "height": 279
        },
        "id": "MQDdmjyfplDB",
        "outputId": "f8549e2b-d831-46fc-c88f-a4eeeb116c72"
      },
      "source": [
        "# visualização\n",
        "plt.plot(range(y_previsto.shape[0]), y_previsto, 'r--')\n",
        "plt.plot(range(y_teste.shape[0]), y_teste, 'g--')\n",
        "plt.legend(['Sorvetes previstos', 'Sorvetes vendidos'])\n",
        "plt.xlabel('índice')\n",
        "plt.ylabel('Sorvetes')\n",
        "plt.show()"
      ],
      "execution_count": 24,
      "outputs": [
        {
          "output_type": "display_data",
          "data": {
            "image/png": "[encoded data removed]",
            "text/plain": [
              "<Figure size 432x288 with 1 Axes>"
            ]
          },
          "metadata": {
            "tags": [],
            "needs_background": "light"
          }
        }
      ]
    },
    {
      "cell_type": "code",
      "metadata": {
        "id": "eFuM5PWDr0pV"
      },
      "source": [
        ""
      ],
      "execution_count": null,
      "outputs": []
    }
  ]
}