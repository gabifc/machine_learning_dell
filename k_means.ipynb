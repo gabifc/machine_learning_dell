{
  "nbformat": 4,
  "nbformat_minor": 0,
  "metadata": {
    "colab": {
      "name": "k_means.ipynb",
      "provenance": [],
      "authorship_tag": "ABX9TyNUrFZz3FyOlXYXzX+5GdtG",
      "include_colab_link": true
    },
    "kernelspec": {
      "name": "python3",
      "display_name": "Python 3"
    },
    "language_info": {
      "name": "python"
    }
  },
  "cells": [
    {
      "cell_type": "markdown",
      "metadata": {
        "id": "view-in-github",
        "colab_type": "text"
      },
      "source": [
        "<a href=\"https://colab.research.google.com/github/gabifc/machine_learning_dell/blob/main/k_means.ipynb\" target=\"_parent\"><img src=\"https://colab.research.google.com/assets/colab-badge.svg\" alt=\"Open In Colab\"/></a>"
      ]
    },
    {
      "cell_type": "markdown",
      "metadata": {
        "id": "NizYK8PECA3L"
      },
      "source": [
        "Olá, seja bem-vindo!\n",
        "Durante este curso, você aprendeu sobre “clusterização”, a técnica de\n",
        "Machine Learning que faz parte do aprendizado não supervisionado, também\n",
        "conhecida como “análise de agrupamentos”, está lembrado? Então, nesta aula, será\n",
        "abordado um dos mais renomados algoritmos não hierárquicos na análise de\n",
        "clusters, o algoritmo K-means. Ficou curioso para saber como funciona? Vamos lá!\n",
        "Para agrupar dados não rotulados e que possuem características\n",
        "semelhantes, diversos sistemas utilizam a clusterização. Para realizar essa tarefa,\n",
        "existem vários algoritmos, sendo um dos mais simples e populares algoritmos de\n",
        "clustering, o K-means, que você, agora, vai conhecer e entender como funciona.\n",
        "Inicialmente, vamos falar sobre a definição do K-means. Ele é um algoritmo\n",
        "não hierárquico, que tem o objetivo de agrupar os dados em k clusters diferentes.\n",
        "Para entender como o K-means funciona é preciso, primeiro, definir o conceito de\n",
        "centróide de um cluster.\n",
        "Um centróide representa o centro de um cluster e é obtido pelo valor médio\n",
        "dos dados que estão dentro desse cluster. Assim, o algoritmo K-means encontra,\n",
        "iterativamente, o centróide de cada cluster através de uma medida de distância, de forma que cada cluster contenha os dados, cuja distância entre eles e o centróide\n",
        "seja mínima. O algoritmo K-means pode ser representado pelas seguintes etapas:\n",
        "1 - Divida os dados em k grupos com centróides criadas aleatoriamente\n",
        "2 - repita até que a condição seja satisfeita:\n",
        "3 - | calcule a distância de cada objeto ao centróide\n",
        "|\n",
        "4 - | atribuir o objeto para o grupo com menor distância ao centróide\n",
        "|\n",
        "5 - | atualize o centróide de cada grupo\n",
        "\n",
        "Graficamente, as etapas podem ser expressas da seguinte forma: Os passos\n",
        "do algoritmo K-means estão ligados por setas e cada passo é ilustrado por três\n",
        "grupos de círculos, representando os dados, com um símbolo de + colorido.\n",
        "No primeiro passo, o da “Inicialização de meio”, o grupo à esquerda tem um\n",
        "símbolo de + azul, o da direita tem um símbolo de + em vermelho e o de cima tem\n",
        "um símbolo de + verde. Todos os grupos são da cor cinza.\n",
        "No segundo passo, o da “Atribuição de grupo”, os grupos agora estão\n",
        "coloridos e estão divididos por três linhas. À esquerda, sobre um fundo azul, há o\n",
        "grupo azul com o + azul. À direita, sobre um fundo vermelho, existe o grupo\n",
        "vermelho com o + vermelho. Em cima, sobre um fundo verde, encontra-se o grupo\n",
        "verde com o + verde. Alguns círculos de um grupo cruzam parcialmente a linha do\n",
        "outro grupo.\n",
        "No terceiro passo, o da “Atualização de meio”, as linhas e os fundos\n",
        "sumiram, mas os grupos ainda mantêm a mesma posição do passo 2, com alguns círculos de um grupo próximo de outro. Sobre esse passo, há um símbolo de\n",
        "atualização.\n",
        "No quarto passo, o da “Convergência”, os grupos estão claramente\n",
        "separados entre si, sem nenhum círculo de um grupo se aproximando de outro.  \n",
        "O algoritmo realizará esses passos até que uma condição de parada seja\n",
        "satisfeita. Essa condição de parada é conhecida como convergência, e pode ser\n",
        "representada, por exemplo, pela soma do erro quadrático, do inglês SSE (Sum of\n",
        "Squared Errors). Ele representa a soma das diferenças ao quadrado, entre cada\n",
        "observação e a média do grupo em um conjunto de dados.  \n",
        "Na literatura, um dos métodos mais populares de encontrar o valor de k é o\n",
        "método Elbow, que consiste em plotar a variância dos dados em função do número\n",
        "de clusters. Desse modo, a partir do ponto em que os valores de k crescem e os\n",
        "valores de variância não mudam de forma significativa, esse ponto é o melhor valor\n",
        "para k.\n",
        "Sendo assim, o método Elbow, também conhecido como método do\n",
        "cotovelo, cujo apelido se deve, além da tradução literal de Elbow ser “cotovelo”, à\n",
        "curva formada por ele também lembra o formato de um cotovelo.\n",
        "A representação gráfica desse método é formada por dois eixos. O eixo Y, na\n",
        "vertical, representa a variância. O eixo X, na horizontal, representa o número de\n",
        "clusters. Ao lado, há a letra k. No gráfico, existe uma linha com vários pontos\n",
        "vermelhos que se assemelha a um cotovelo. No quarto ponto, na “dobra” do\n",
        "cotovelo, encontra-se uma seta com a mensagem “Valor de k pelo método Elbow”.  \n",
        "Agora, de forma prática, no ambiente do jupyter, você vai aplicar o algoritmo\n",
        "K-means, usando a biblioteca scikit-learn em um conjunto de dados, tudo bem?  \n",
        "Para isso, utilize uma base de dados criada para fins didáticos, que\n",
        "representa informações básicas dos clientes de um shopping. Depois, use o\n",
        "algoritmo K-means para identificar possíveis grupos de clientes."
      ]
    },
    {
      "cell_type": "code",
      "metadata": {
        "id": "VA-D9ELJBM3P"
      },
      "source": [
        "import numpy as np\n",
        "import pandas as pd\n",
        "import matplotlib.pyplot as plt"
      ],
      "execution_count": 1,
      "outputs": []
    },
    {
      "cell_type": "code",
      "metadata": {
        "colab": {
          "base_uri": "https://localhost:8080/",
          "height": 202
        },
        "id": "e4UfNu1aGXp2",
        "outputId": "54d32884-1bbd-4f18-c293-3c6c436098ad"
      },
      "source": [
        "# Leitura dos dados\n",
        "df = pd.read_csv('Mall_Customers.csv')\n",
        "df.head()\n"
      ],
      "execution_count": 3,
      "outputs": [
        {
          "output_type": "execute_result",
          "data": {
            "text/html": [
              "<div>\n",
              "<style scoped>\n",
              "    .dataframe tbody tr th:only-of-type {\n",
              "        vertical-align: middle;\n",
              "    }\n",
              "\n",
              "    .dataframe tbody tr th {\n",
              "        vertical-align: top;\n",
              "    }\n",
              "\n",
              "    .dataframe thead th {\n",
              "        text-align: right;\n",
              "    }\n",
              "</style>\n",
              "<table border=\"1\" class=\"dataframe\">\n",
              "  <thead>\n",
              "    <tr style=\"text-align: right;\">\n",
              "      <th></th>\n",
              "      <th>CustomerID</th>\n",
              "      <th>Gender</th>\n",
              "      <th>Age</th>\n",
              "      <th>Annual Income (k$)</th>\n",
              "      <th>Spending Score (1-100)</th>\n",
              "    </tr>\n",
              "  </thead>\n",
              "  <tbody>\n",
              "    <tr>\n",
              "      <th>0</th>\n",
              "      <td>1</td>\n",
              "      <td>Male</td>\n",
              "      <td>19</td>\n",
              "      <td>15</td>\n",
              "      <td>39</td>\n",
              "    </tr>\n",
              "    <tr>\n",
              "      <th>1</th>\n",
              "      <td>2</td>\n",
              "      <td>Male</td>\n",
              "      <td>21</td>\n",
              "      <td>15</td>\n",
              "      <td>81</td>\n",
              "    </tr>\n",
              "    <tr>\n",
              "      <th>2</th>\n",
              "      <td>3</td>\n",
              "      <td>Female</td>\n",
              "      <td>20</td>\n",
              "      <td>16</td>\n",
              "      <td>6</td>\n",
              "    </tr>\n",
              "    <tr>\n",
              "      <th>3</th>\n",
              "      <td>4</td>\n",
              "      <td>Female</td>\n",
              "      <td>23</td>\n",
              "      <td>16</td>\n",
              "      <td>77</td>\n",
              "    </tr>\n",
              "    <tr>\n",
              "      <th>4</th>\n",
              "      <td>5</td>\n",
              "      <td>Female</td>\n",
              "      <td>31</td>\n",
              "      <td>17</td>\n",
              "      <td>40</td>\n",
              "    </tr>\n",
              "  </tbody>\n",
              "</table>\n",
              "</div>"
            ],
            "text/plain": [
              "   CustomerID  Gender  Age  Annual Income (k$)  Spending Score (1-100)\n",
              "0           1    Male   19                  15                      39\n",
              "1           2    Male   21                  15                      81\n",
              "2           3  Female   20                  16                       6\n",
              "3           4  Female   23                  16                      77\n",
              "4           5  Female   31                  17                      40"
            ]
          },
          "metadata": {
            "tags": []
          },
          "execution_count": 3
        }
      ]
    },
    {
      "cell_type": "code",
      "metadata": {
        "colab": {
          "base_uri": "https://localhost:8080/"
        },
        "id": "LpJ2N7QVGi64",
        "outputId": "b173e84b-49fb-4120-fa1d-3957c8cd425b"
      },
      "source": [
        "#tamanho do dataframe - quantidade de registros\n",
        "df.shape"
      ],
      "execution_count": 4,
      "outputs": [
        {
          "output_type": "execute_result",
          "data": {
            "text/plain": [
              "(200, 5)"
            ]
          },
          "metadata": {
            "tags": []
          },
          "execution_count": 4
        }
      ]
    },
    {
      "cell_type": "code",
      "metadata": {
        "colab": {
          "base_uri": "https://localhost:8080/"
        },
        "id": "irsZwCp7Gq2_",
        "outputId": "3cc2b179-a7a0-448d-cb8f-c371cf9c7282"
      },
      "source": [
        "# verificar dados nulos - retorna a soma dos dados nulos na tabela\n",
        "df.isnull().sum()"
      ],
      "execution_count": 5,
      "outputs": [
        {
          "output_type": "execute_result",
          "data": {
            "text/plain": [
              "CustomerID                0\n",
              "Gender                    0\n",
              "Age                       0\n",
              "Annual Income (k$)        0\n",
              "Spending Score (1-100)    0\n",
              "dtype: int64"
            ]
          },
          "metadata": {
            "tags": []
          },
          "execution_count": 5
        }
      ]
    },
    {
      "cell_type": "code",
      "metadata": {
        "colab": {
          "base_uri": "https://localhost:8080/",
          "height": 294
        },
        "id": "9-L4QPCzGxpm",
        "outputId": "162d7a05-8d0a-46a8-d415-0cb80e760a2a"
      },
      "source": [
        "# informações estatísticas\n",
        "df.describe()"
      ],
      "execution_count": 6,
      "outputs": [
        {
          "output_type": "execute_result",
          "data": {
            "text/html": [
              "<div>\n",
              "<style scoped>\n",
              "    .dataframe tbody tr th:only-of-type {\n",
              "        vertical-align: middle;\n",
              "    }\n",
              "\n",
              "    .dataframe tbody tr th {\n",
              "        vertical-align: top;\n",
              "    }\n",
              "\n",
              "    .dataframe thead th {\n",
              "        text-align: right;\n",
              "    }\n",
              "</style>\n",
              "<table border=\"1\" class=\"dataframe\">\n",
              "  <thead>\n",
              "    <tr style=\"text-align: right;\">\n",
              "      <th></th>\n",
              "      <th>CustomerID</th>\n",
              "      <th>Age</th>\n",
              "      <th>Annual Income (k$)</th>\n",
              "      <th>Spending Score (1-100)</th>\n",
              "    </tr>\n",
              "  </thead>\n",
              "  <tbody>\n",
              "    <tr>\n",
              "      <th>count</th>\n",
              "      <td>200.000000</td>\n",
              "      <td>200.000000</td>\n",
              "      <td>200.000000</td>\n",
              "      <td>200.000000</td>\n",
              "    </tr>\n",
              "    <tr>\n",
              "      <th>mean</th>\n",
              "      <td>100.500000</td>\n",
              "      <td>38.850000</td>\n",
              "      <td>60.560000</td>\n",
              "      <td>50.200000</td>\n",
              "    </tr>\n",
              "    <tr>\n",
              "      <th>std</th>\n",
              "      <td>57.879185</td>\n",
              "      <td>13.969007</td>\n",
              "      <td>26.264721</td>\n",
              "      <td>25.823522</td>\n",
              "    </tr>\n",
              "    <tr>\n",
              "      <th>min</th>\n",
              "      <td>1.000000</td>\n",
              "      <td>18.000000</td>\n",
              "      <td>15.000000</td>\n",
              "      <td>1.000000</td>\n",
              "    </tr>\n",
              "    <tr>\n",
              "      <th>25%</th>\n",
              "      <td>50.750000</td>\n",
              "      <td>28.750000</td>\n",
              "      <td>41.500000</td>\n",
              "      <td>34.750000</td>\n",
              "    </tr>\n",
              "    <tr>\n",
              "      <th>50%</th>\n",
              "      <td>100.500000</td>\n",
              "      <td>36.000000</td>\n",
              "      <td>61.500000</td>\n",
              "      <td>50.000000</td>\n",
              "    </tr>\n",
              "    <tr>\n",
              "      <th>75%</th>\n",
              "      <td>150.250000</td>\n",
              "      <td>49.000000</td>\n",
              "      <td>78.000000</td>\n",
              "      <td>73.000000</td>\n",
              "    </tr>\n",
              "    <tr>\n",
              "      <th>max</th>\n",
              "      <td>200.000000</td>\n",
              "      <td>70.000000</td>\n",
              "      <td>137.000000</td>\n",
              "      <td>99.000000</td>\n",
              "    </tr>\n",
              "  </tbody>\n",
              "</table>\n",
              "</div>"
            ],
            "text/plain": [
              "       CustomerID         Age  Annual Income (k$)  Spending Score (1-100)\n",
              "count  200.000000  200.000000          200.000000              200.000000\n",
              "mean   100.500000   38.850000           60.560000               50.200000\n",
              "std     57.879185   13.969007           26.264721               25.823522\n",
              "min      1.000000   18.000000           15.000000                1.000000\n",
              "25%     50.750000   28.750000           41.500000               34.750000\n",
              "50%    100.500000   36.000000           61.500000               50.000000\n",
              "75%    150.250000   49.000000           78.000000               73.000000\n",
              "max    200.000000   70.000000          137.000000               99.000000"
            ]
          },
          "metadata": {
            "tags": []
          },
          "execution_count": 6
        }
      ]
    },
    {
      "cell_type": "code",
      "metadata": {
        "colab": {
          "base_uri": "https://localhost:8080/",
          "height": 279
        },
        "id": "WfPR1YfhG1l3",
        "outputId": "5e9996df-e8ee-49c3-d3a3-546d0dc0d44a"
      },
      "source": [
        "# gerando gráfico de renda anual versus score do cliente\n",
        "plt.scatter(df['Annual Income (k$)'], df['Spending Score (1-100)'], marker='.')\n",
        "plt.xlabel('Renda Anual [k$]')\n",
        "plt.ylabel('Score (1-100)')\n",
        "plt.show()"
      ],
      "execution_count": 7,
      "outputs": [
        {
          "output_type": "display_data",
          "data": {
            "image/png": "[encoded data removed]",
            "text/plain": [
              "<Figure size 432x288 with 1 Axes>"
            ]
          },
          "metadata": {
            "tags": [],
            "needs_background": "light"
          }
        }
      ]
    },
    {
      "cell_type": "code",
      "metadata": {
        "colab": {
          "base_uri": "https://localhost:8080/",
          "height": 202
        },
        "id": "USMvtoaMG514",
        "outputId": "6cd17834-b948-492a-c2f4-531bf36a9ff7"
      },
      "source": [
        "# selecionando dados para o agrupamento\n",
        "X = df[['Annual Income (k$)', 'Spending Score (1-100)']]\n",
        "X.head()"
      ],
      "execution_count": 9,
      "outputs": [
        {
          "output_type": "execute_result",
          "data": {
            "text/html": [
              "<div>\n",
              "<style scoped>\n",
              "    .dataframe tbody tr th:only-of-type {\n",
              "        vertical-align: middle;\n",
              "    }\n",
              "\n",
              "    .dataframe tbody tr th {\n",
              "        vertical-align: top;\n",
              "    }\n",
              "\n",
              "    .dataframe thead th {\n",
              "        text-align: right;\n",
              "    }\n",
              "</style>\n",
              "<table border=\"1\" class=\"dataframe\">\n",
              "  <thead>\n",
              "    <tr style=\"text-align: right;\">\n",
              "      <th></th>\n",
              "      <th>Annual Income (k$)</th>\n",
              "      <th>Spending Score (1-100)</th>\n",
              "    </tr>\n",
              "  </thead>\n",
              "  <tbody>\n",
              "    <tr>\n",
              "      <th>0</th>\n",
              "      <td>15</td>\n",
              "      <td>39</td>\n",
              "    </tr>\n",
              "    <tr>\n",
              "      <th>1</th>\n",
              "      <td>15</td>\n",
              "      <td>81</td>\n",
              "    </tr>\n",
              "    <tr>\n",
              "      <th>2</th>\n",
              "      <td>16</td>\n",
              "      <td>6</td>\n",
              "    </tr>\n",
              "    <tr>\n",
              "      <th>3</th>\n",
              "      <td>16</td>\n",
              "      <td>77</td>\n",
              "    </tr>\n",
              "    <tr>\n",
              "      <th>4</th>\n",
              "      <td>17</td>\n",
              "      <td>40</td>\n",
              "    </tr>\n",
              "  </tbody>\n",
              "</table>\n",
              "</div>"
            ],
            "text/plain": [
              "   Annual Income (k$)  Spending Score (1-100)\n",
              "0                  15                      39\n",
              "1                  15                      81\n",
              "2                  16                       6\n",
              "3                  16                      77\n",
              "4                  17                      40"
            ]
          },
          "metadata": {
            "tags": []
          },
          "execution_count": 9
        }
      ]
    },
    {
      "cell_type": "code",
      "metadata": {
        "id": "F_B53sf3HiGK"
      },
      "source": [
        "# Importando K-means\n",
        "from sklearn.cluster import KMeans"
      ],
      "execution_count": 10,
      "outputs": []
    },
    {
      "cell_type": "code",
      "metadata": {
        "id": "WogrXUJOH43d"
      },
      "source": [
        "# clusterizando com k = 5\n",
        "modelo_kmeans = KMeans(n_clusters= 5, init='k-means++')"
      ],
      "execution_count": 11,
      "outputs": []
    },
    {
      "cell_type": "code",
      "metadata": {
        "id": "plm5Kn_PH8AG"
      },
      "source": [
        "y_kmeans= modelo_kmeans.fit_predict(X)"
      ],
      "execution_count": 12,
      "outputs": []
    },
    {
      "cell_type": "code",
      "metadata": {
        "colab": {
          "base_uri": "https://localhost:8080/"
        },
        "id": "fa48Ns4NIADu",
        "outputId": "2cf63a07-1653-4866-92c0-249682999bf1"
      },
      "source": [
        "print(y_kmeans)"
      ],
      "execution_count": 13,
      "outputs": [
        {
          "output_type": "stream",
          "text": [
            "[3 4 3 4 3 4 3 4 3 4 3 4 3 4 3 4 3 4 3 4 3 4 3 4 3 4 3 4 3 4 3 4 3 4 3 4 3\n",
            " 4 3 4 3 4 3 0 3 4 0 0 0 0 0 0 0 0 0 0 0 0 0 0 0 0 0 0 0 0 0 0 0 0 0 0 0 0\n",
            " 0 0 0 0 0 0 0 0 0 0 0 0 0 0 0 0 0 0 0 0 0 0 0 0 0 0 0 0 0 0 0 0 0 0 0 0 0\n",
            " 0 0 0 0 0 0 0 0 0 0 0 0 2 1 2 0 2 1 2 1 2 0 2 1 2 1 2 1 2 1 2 0 2 1 2 1 2\n",
            " 1 2 1 2 1 2 1 2 1 2 1 2 1 2 1 2 1 2 1 2 1 2 1 2 1 2 1 2 1 2 1 2 1 2 1 2 1\n",
            " 2 1 2 1 2 1 2 1 2 1 2 1 2 1 2]\n"
          ],
          "name": "stdout"
        }
      ]
    },
    {
      "cell_type": "code",
      "metadata": {
        "colab": {
          "base_uri": "https://localhost:8080/"
        },
        "id": "y4yXSDOHIbkw",
        "outputId": "71a0e063-0055-43ca-a9ea-8adda3e39795"
      },
      "source": [
        "# visualizando o primeiro grupo criado\n",
        "print(X[y_kmeans == 0])"
      ],
      "execution_count": 14,
      "outputs": [
        {
          "output_type": "stream",
          "text": [
            "     Annual Income (k$)  Spending Score (1-100)\n",
            "43                   39                      61\n",
            "46                   40                      55\n",
            "47                   40                      47\n",
            "48                   40                      42\n",
            "49                   40                      42\n",
            "..                  ...                     ...\n",
            "121                  67                      40\n",
            "122                  69                      58\n",
            "126                  71                      35\n",
            "132                  72                      34\n",
            "142                  76                      40\n",
            "\n",
            "[81 rows x 2 columns]\n"
          ],
          "name": "stdout"
        }
      ]
    },
    {
      "cell_type": "code",
      "metadata": {
        "colab": {
          "base_uri": "https://localhost:8080/",
          "height": 295
        },
        "id": "IsTncIU5Ignv",
        "outputId": "a15ef247-ffd0-4594-dbd6-325aab552b97"
      },
      "source": [
        "# visualizando todos os grupos com loop\n",
        "k_grupos = 5\n",
        "cores = ['r', 'b', 'k', 'y', 'g']\n",
        "for k in range(k_grupos):\n",
        "    cluster = X[y_kmeans == k]\n",
        "    plt.scatter(cluster['Annual Income (k$)'], cluster['Spending Score (1-100)'],\n",
        "                s = 100, c = cores[k], label = f'Cluster {k}')\n",
        "    \n",
        "plt.title('Grupos de clientes')\n",
        "plt.xlabel('Renda Anual (k$)')\n",
        "plt.ylabel('Score (1-100)')\n",
        "plt.grid()\n",
        "plt.legend()\n",
        "plt.show()"
      ],
      "execution_count": 17,
      "outputs": [
        {
          "output_type": "display_data",
          "data": {
            "image/png": "[encoded data removed]",
            "text/plain": [
              "<Figure size 432x288 with 1 Axes>"
            ]
          },
          "metadata": {
            "tags": [],
            "needs_background": "light"
          }
        }
      ]
    },
    {
      "cell_type": "code",
      "metadata": {
        "id": "BGFvvXDGI2Jm"
      },
      "source": [
        ""
      ],
      "execution_count": null,
      "outputs": []
    }
  ]
}